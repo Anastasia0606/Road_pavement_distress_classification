{
  "cells": [
    {
      "cell_type": "code",
      "execution_count": 1,
      "metadata": {
        "id": "EUq_Hg5WzIZu"
      },
      "outputs": [],
      "source": [
        "import zipfile\n",
        "from glob import glob\n",
        "import os\n",
        "import numpy as np\n",
        "import pandas as pd\n",
        "import matplotlib.pyplot  as plt\n",
        "from pathlib import Path\n",
        "import seaborn as sns"
      ]
    },
    {
      "cell_type": "markdown",
      "metadata": {
        "id": "QpLe5WnUzWIF"
      },
      "source": [
        "## Download data\n",
        "\n",
        "unzip the file with json metafiles to the directory 'Meta'"
      ]
    },
    {
      "cell_type": "code",
      "execution_count": null,
      "metadata": {
        "id": "MT5ARYbxVmtr"
      },
      "outputs": [],
      "source": [
        "!unzip /content/drive/MyDrive/Roadly/meta.zip -d /content/drive/MyDrive/Roadly/"
      ]
    },
    {
      "cell_type": "markdown",
      "metadata": {
        "id": "2yycpb2Xgk6r"
      },
      "source": [
        "creating the list of paths to json files in directory"
      ]
    },
    {
      "cell_type": "code",
      "execution_count": null,
      "metadata": {
        "colab": {
          "base_uri": "https://localhost:8080/",
          "height": 304
        },
        "id": "UXrjEz5v0IRN",
        "outputId": "2c82b3fb-e670-4c93-e3a1-63eed2d3ed1d"
      },
      "outputs": [],
      "source": [
        "path_to_json_files = 'smth'\n",
        "filepaths = glob(path_to_json_files + '/*.json') # get list of json files in folder\n",
        "len(filepaths) # get the number of json files"
      ]
    },
    {
      "cell_type": "code",
      "execution_count": null,
      "metadata": {
        "id": "2darHv8AhJVf"
      },
      "outputs": [],
      "source": [
        "files = glob.glob(path_to_json_files)"
      ]
    },
    {
      "cell_type": "markdown",
      "metadata": {
        "id": "76MeQTWA7nDh"
      },
      "source": [
        "## Creating an annotation CSV file\n",
        "\n",
        "Get dataframe from multiple json files, create 'file_name' column from json file name."
      ]
    },
    {
      "cell_type": "code",
      "execution_count": null,
      "metadata": {
        "id": "JMdYMo_Zj_oH"
      },
      "outputs": [],
      "source": [
        "import json\n",
        "#import codecs"
      ]
    },
    {
      "cell_type": "code",
      "execution_count": null,
      "metadata": {
        "colab": {
          "base_uri": "https://localhost:8080/",
          "height": 332
        },
        "id": "2HXnGIQ5jx3C",
        "outputId": "ff8a8d79-207d-48c6-f514-c96431fb021b"
      },
      "outputs": [],
      "source": [
        "combined_results = []\n",
        "for file in filepaths:\n",
        "    f = open(file, 'r')\n",
        "    combined_results.append(json.load(f))\n",
        "\n",
        "pd.DataFrame(combined_results)"
      ]
    },
    
    {
      "cell_type": "code",
      "execution_count": null,
      "metadata": {
        "id": "qs-CHHTlSTuC"
      },
      "outputs": [],
      "source": [
        "meta_df.info()"
      ]
    },
    {
      "cell_type": "markdown",
      "metadata": {
        "id": "k1xqsxOP9mur"
      },
      "source": [
        "Save meta_df in csv format."
      ]
    },
    {
      "cell_type": "code",
      "execution_count": null,
      "metadata": {
        "id": "nV6A-2Q02uYN"
      },
      "outputs": [],
      "source": [
        "meta_df.to_csv('meta.csv')"
      ]
    },
    {
      "cell_type": "markdown",
      "metadata": {
        "id": "CMVaHpmGBBl_"
      },
      "source": [
        "## Compare image file names and metadata files\n",
        "\n",
        "loading meta data from csv, check for duplicates"
      ]
    },
    {
      "cell_type": "code",
      "execution_count": null,
      "metadata": {
        "colab": {
          "base_uri": "https://localhost:8080/",
          "height": 143
        },
        "id": "SqciPW33qdm6",
        "outputId": "f1811721-ec03-4d07-d59a-de9d309842c1"
      },
      "outputs": [
        {
          "data": {
            "application/vnd.google.colaboratory.intrinsic+json": {
              "summary": "{\n  \"name\": \"meta_df\",\n  \"rows\": 45466,\n  \"fields\": [\n    {\n      \"column\": \"Unnamed: 0.1\",\n      \"properties\": {\n        \"dtype\": \"number\",\n        \"std\": 13125,\n        \"min\": 0,\n        \"max\": 45465,\n        \"samples\": [\n          43526,\n          6383,\n          3154\n        ],\n        \"num_unique_values\": 45466,\n        \"semantic_type\": \"\",\n        \"description\": \"\"\n      }\n    },\n    {\n      \"column\": \"Unnamed: 0\",\n      \"properties\": {\n        \"dtype\": \"number\",\n        \"std\": 13125,\n        \"min\": 0,\n        \"max\": 45465,\n        \"samples\": [\n          43526,\n          6383,\n          3154\n        ],\n        \"num_unique_values\": 45466,\n        \"semantic_type\": \"\",\n        \"description\": \"\"\n      }\n    },\n    {\n      \"column\": \"class_label\",\n      \"properties\": {\n        \"dtype\": \"category\",\n        \"samples\": [\n          \"sealed_crack\",\n          \"raveling\",\n          \"pothole\"\n        ],\n        \"num_unique_values\": 10,\n        \"semantic_type\": \"\",\n        \"description\": \"\"\n      }\n    },\n    {\n      \"column\": \"severity_label\",\n      \"properties\": {\n        \"dtype\": \"category\",\n        \"samples\": [\n          \"medium\",\n          \"low\",\n          \"high\"\n        ],\n        \"num_unique_values\": 3,\n        \"semantic_type\": \"\",\n        \"description\": \"\"\n      }\n    },\n    {\n      \"column\": \"job\",\n      \"properties\": {\n        \"dtype\": \"number\",\n        \"std\": 187,\n        \"min\": 3317,\n        \"max\": 4288,\n        \"samples\": [\n          3359,\n          3410,\n          3511\n        ],\n        \"num_unique_values\": 283,\n        \"semantic_type\": \"\",\n        \"description\": \"\"\n      }\n    },\n    {\n      \"column\": \"frame\",\n      \"properties\": {\n        \"dtype\": \"number\",\n        \"std\": 526,\n        \"min\": 6,\n        \"max\": 2401,\n        \"samples\": [\n          648,\n          722,\n          604\n        ],\n        \"num_unique_values\": 1717,\n        \"semantic_type\": \"\",\n        \"description\": \"\"\n      }\n    },\n    {\n      \"column\": \"validated\",\n      \"properties\": {\n        \"dtype\": \"boolean\",\n        \"samples\": [\n          true,\n          false\n        ],\n        \"num_unique_values\": 2,\n        \"semantic_type\": \"\",\n        \"description\": \"\"\n      }\n    },\n    {\n      \"column\": \"file_name\",\n      \"properties\": {\n        \"dtype\": \"string\",\n        \"samples\": [\n          \"3499_671_23\",\n          \"3662_43_14\"\n        ],\n        \"num_unique_values\": 45466,\n        \"semantic_type\": \"\",\n        \"description\": \"\"\n      }\n    }\n  ]\n}",
              "type": "dataframe",
              "variable_name": "meta_df"
            },
            "text/html": [
              "\n",
              "  <div id=\"df-2c0ccf5c-d04d-4941-a606-1d4546fea8f9\" class=\"colab-df-container\">\n",
              "    <div>\n",
              "<style scoped>\n",
              "    .dataframe tbody tr th:only-of-type {\n",
              "        vertical-align: middle;\n",
              "    }\n",
              "\n",
              "    .dataframe tbody tr th {\n",
              "        vertical-align: top;\n",
              "    }\n",
              "\n",
              "    .dataframe thead th {\n",
              "        text-align: right;\n",
              "    }\n",
              "</style>\n",
              "<table border=\"1\" class=\"dataframe\">\n",
              "  <thead>\n",
              "    <tr style=\"text-align: right;\">\n",
              "      <th></th>\n",
              "      <th>Unnamed: 0.1</th>\n",
              "      <th>Unnamed: 0</th>\n",
              "      <th>class_label</th>\n",
              "      <th>severity_label</th>\n",
              "      <th>job</th>\n",
              "      <th>frame</th>\n",
              "      <th>validated</th>\n",
              "      <th>file_name</th>\n",
              "    </tr>\n",
              "  </thead>\n",
              "  <tbody>\n",
              "    <tr>\n",
              "      <th>0</th>\n",
              "      <td>0</td>\n",
              "      <td>0</td>\n",
              "      <td>crack_longitudinal</td>\n",
              "      <td>medium</td>\n",
              "      <td>3640</td>\n",
              "      <td>1102</td>\n",
              "      <td>False</td>\n",
              "      <td>3640_1102_21</td>\n",
              "    </tr>\n",
              "    <tr>\n",
              "      <th>1</th>\n",
              "      <td>1</td>\n",
              "      <td>1</td>\n",
              "      <td>crack_longitudinal</td>\n",
              "      <td>low</td>\n",
              "      <td>3394</td>\n",
              "      <td>275</td>\n",
              "      <td>False</td>\n",
              "      <td>3394_275_52</td>\n",
              "    </tr>\n",
              "    <tr>\n",
              "      <th>2</th>\n",
              "      <td>2</td>\n",
              "      <td>2</td>\n",
              "      <td>raveling</td>\n",
              "      <td>high</td>\n",
              "      <td>3352</td>\n",
              "      <td>640</td>\n",
              "      <td>False</td>\n",
              "      <td>3352_640_16</td>\n",
              "    </tr>\n",
              "  </tbody>\n",
              "</table>\n",
              "</div>\n",
              "    <div class=\"colab-df-buttons\">\n",
              "\n",
              "  <div class=\"colab-df-container\">\n",
              "    <button class=\"colab-df-convert\" onclick=\"convertToInteractive('df-2c0ccf5c-d04d-4941-a606-1d4546fea8f9')\"\n",
              "            title=\"Convert this dataframe to an interactive table.\"\n",
              "            style=\"display:none;\">\n",
              "\n",
              "  <svg xmlns=\"http://www.w3.org/2000/svg\" height=\"24px\" viewBox=\"0 -960 960 960\">\n",
              "    <path d=\"M120-120v-720h720v720H120Zm60-500h600v-160H180v160Zm220 220h160v-160H400v160Zm0 220h160v-160H400v160ZM180-400h160v-160H180v160Zm440 0h160v-160H620v160ZM180-180h160v-160H180v160Zm440 0h160v-160H620v160Z\"/>\n",
              "  </svg>\n",
              "    </button>\n",
              "\n",
              "  <style>\n",
              "    .colab-df-container {\n",
              "      display:flex;\n",
              "      gap: 12px;\n",
              "    }\n",
              "\n",
              "    .colab-df-convert {\n",
              "      background-color: #E8F0FE;\n",
              "      border: none;\n",
              "      border-radius: 50%;\n",
              "      cursor: pointer;\n",
              "      display: none;\n",
              "      fill: #1967D2;\n",
              "      height: 32px;\n",
              "      padding: 0 0 0 0;\n",
              "      width: 32px;\n",
              "    }\n",
              "\n",
              "    .colab-df-convert:hover {\n",
              "      background-color: #E2EBFA;\n",
              "      box-shadow: 0px 1px 2px rgba(60, 64, 67, 0.3), 0px 1px 3px 1px rgba(60, 64, 67, 0.15);\n",
              "      fill: #174EA6;\n",
              "    }\n",
              "\n",
              "    .colab-df-buttons div {\n",
              "      margin-bottom: 4px;\n",
              "    }\n",
              "\n",
              "    [theme=dark] .colab-df-convert {\n",
              "      background-color: #3B4455;\n",
              "      fill: #D2E3FC;\n",
              "    }\n",
              "\n",
              "    [theme=dark] .colab-df-convert:hover {\n",
              "      background-color: #434B5C;\n",
              "      box-shadow: 0px 1px 3px 1px rgba(0, 0, 0, 0.15);\n",
              "      filter: drop-shadow(0px 1px 2px rgba(0, 0, 0, 0.3));\n",
              "      fill: #FFFFFF;\n",
              "    }\n",
              "  </style>\n",
              "\n",
              "    <script>\n",
              "      const buttonEl =\n",
              "        document.querySelector('#df-2c0ccf5c-d04d-4941-a606-1d4546fea8f9 button.colab-df-convert');\n",
              "      buttonEl.style.display =\n",
              "        google.colab.kernel.accessAllowed ? 'block' : 'none';\n",
              "\n",
              "      async function convertToInteractive(key) {\n",
              "        const element = document.querySelector('#df-2c0ccf5c-d04d-4941-a606-1d4546fea8f9');\n",
              "        const dataTable =\n",
              "          await google.colab.kernel.invokeFunction('convertToInteractive',\n",
              "                                                    [key], {});\n",
              "        if (!dataTable) return;\n",
              "\n",
              "        const docLinkHtml = 'Like what you see? Visit the ' +\n",
              "          '<a target=\"_blank\" href=https://colab.research.google.com/notebooks/data_table.ipynb>data table notebook</a>'\n",
              "          + ' to learn more about interactive tables.';\n",
              "        element.innerHTML = '';\n",
              "        dataTable['output_type'] = 'display_data';\n",
              "        await google.colab.output.renderOutput(dataTable, element);\n",
              "        const docLink = document.createElement('div');\n",
              "        docLink.innerHTML = docLinkHtml;\n",
              "        element.appendChild(docLink);\n",
              "      }\n",
              "    </script>\n",
              "  </div>\n",
              "\n",
              "\n",
              "<div id=\"df-c51522dc-7b6b-4cd8-9362-1305e7f0e225\">\n",
              "  <button class=\"colab-df-quickchart\" onclick=\"quickchart('df-c51522dc-7b6b-4cd8-9362-1305e7f0e225')\"\n",
              "            title=\"Suggest charts\"\n",
              "            style=\"display:none;\">\n",
              "\n",
              "<svg xmlns=\"http://www.w3.org/2000/svg\" height=\"24px\"viewBox=\"0 0 24 24\"\n",
              "     width=\"24px\">\n",
              "    <g>\n",
              "        <path d=\"M19 3H5c-1.1 0-2 .9-2 2v14c0 1.1.9 2 2 2h14c1.1 0 2-.9 2-2V5c0-1.1-.9-2-2-2zM9 17H7v-7h2v7zm4 0h-2V7h2v10zm4 0h-2v-4h2v4z\"/>\n",
              "    </g>\n",
              "</svg>\n",
              "  </button>\n",
              "\n",
              "<style>\n",
              "  .colab-df-quickchart {\n",
              "      --bg-color: #E8F0FE;\n",
              "      --fill-color: #1967D2;\n",
              "      --hover-bg-color: #E2EBFA;\n",
              "      --hover-fill-color: #174EA6;\n",
              "      --disabled-fill-color: #AAA;\n",
              "      --disabled-bg-color: #DDD;\n",
              "  }\n",
              "\n",
              "  [theme=dark] .colab-df-quickchart {\n",
              "      --bg-color: #3B4455;\n",
              "      --fill-color: #D2E3FC;\n",
              "      --hover-bg-color: #434B5C;\n",
              "      --hover-fill-color: #FFFFFF;\n",
              "      --disabled-bg-color: #3B4455;\n",
              "      --disabled-fill-color: #666;\n",
              "  }\n",
              "\n",
              "  .colab-df-quickchart {\n",
              "    background-color: var(--bg-color);\n",
              "    border: none;\n",
              "    border-radius: 50%;\n",
              "    cursor: pointer;\n",
              "    display: none;\n",
              "    fill: var(--fill-color);\n",
              "    height: 32px;\n",
              "    padding: 0;\n",
              "    width: 32px;\n",
              "  }\n",
              "\n",
              "  .colab-df-quickchart:hover {\n",
              "    background-color: var(--hover-bg-color);\n",
              "    box-shadow: 0 1px 2px rgba(60, 64, 67, 0.3), 0 1px 3px 1px rgba(60, 64, 67, 0.15);\n",
              "    fill: var(--button-hover-fill-color);\n",
              "  }\n",
              "\n",
              "  .colab-df-quickchart-complete:disabled,\n",
              "  .colab-df-quickchart-complete:disabled:hover {\n",
              "    background-color: var(--disabled-bg-color);\n",
              "    fill: var(--disabled-fill-color);\n",
              "    box-shadow: none;\n",
              "  }\n",
              "\n",
              "  .colab-df-spinner {\n",
              "    border: 2px solid var(--fill-color);\n",
              "    border-color: transparent;\n",
              "    border-bottom-color: var(--fill-color);\n",
              "    animation:\n",
              "      spin 1s steps(1) infinite;\n",
              "  }\n",
              "\n",
              "  @keyframes spin {\n",
              "    0% {\n",
              "      border-color: transparent;\n",
              "      border-bottom-color: var(--fill-color);\n",
              "      border-left-color: var(--fill-color);\n",
              "    }\n",
              "    20% {\n",
              "      border-color: transparent;\n",
              "      border-left-color: var(--fill-color);\n",
              "      border-top-color: var(--fill-color);\n",
              "    }\n",
              "    30% {\n",
              "      border-color: transparent;\n",
              "      border-left-color: var(--fill-color);\n",
              "      border-top-color: var(--fill-color);\n",
              "      border-right-color: var(--fill-color);\n",
              "    }\n",
              "    40% {\n",
              "      border-color: transparent;\n",
              "      border-right-color: var(--fill-color);\n",
              "      border-top-color: var(--fill-color);\n",
              "    }\n",
              "    60% {\n",
              "      border-color: transparent;\n",
              "      border-right-color: var(--fill-color);\n",
              "    }\n",
              "    80% {\n",
              "      border-color: transparent;\n",
              "      border-right-color: var(--fill-color);\n",
              "      border-bottom-color: var(--fill-color);\n",
              "    }\n",
              "    90% {\n",
              "      border-color: transparent;\n",
              "      border-bottom-color: var(--fill-color);\n",
              "    }\n",
              "  }\n",
              "</style>\n",
              "\n",
              "  <script>\n",
              "    async function quickchart(key) {\n",
              "      const quickchartButtonEl =\n",
              "        document.querySelector('#' + key + ' button');\n",
              "      quickchartButtonEl.disabled = true;  // To prevent multiple clicks.\n",
              "      quickchartButtonEl.classList.add('colab-df-spinner');\n",
              "      try {\n",
              "        const charts = await google.colab.kernel.invokeFunction(\n",
              "            'suggestCharts', [key], {});\n",
              "      } catch (error) {\n",
              "        console.error('Error during call to suggestCharts:', error);\n",
              "      }\n",
              "      quickchartButtonEl.classList.remove('colab-df-spinner');\n",
              "      quickchartButtonEl.classList.add('colab-df-quickchart-complete');\n",
              "    }\n",
              "    (() => {\n",
              "      let quickchartButtonEl =\n",
              "        document.querySelector('#df-c51522dc-7b6b-4cd8-9362-1305e7f0e225 button');\n",
              "      quickchartButtonEl.style.display =\n",
              "        google.colab.kernel.accessAllowed ? 'block' : 'none';\n",
              "    })();\n",
              "  </script>\n",
              "</div>\n",
              "    </div>\n",
              "  </div>\n"
            ],
            "text/plain": [
              "   Unnamed: 0.1  Unnamed: 0         class_label severity_label   job  frame  \\\n",
              "0             0           0  crack_longitudinal         medium  3640   1102   \n",
              "1             1           1  crack_longitudinal            low  3394    275   \n",
              "2             2           2            raveling           high  3352    640   \n",
              "\n",
              "   validated     file_name  \n",
              "0      False  3640_1102_21  \n",
              "1      False   3394_275_52  \n",
              "2      False   3352_640_16  "
            ]
          },
          "execution_count": 57,
          "metadata": {},
          "output_type": "execute_result"
        }
      ],
      "source": [
        "meta_df = pd.read_csv('meta.csv')\n",
        "data_df = meta_df.copy()\n",
        "meta_df.head(3)"
      ]
    },
    {
      "cell_type": "code",
      "execution_count": null,
      "metadata": {
        "colab": {
          "base_uri": "https://localhost:8080/"
        },
        "id": "Uaz-O3GTt0DO",
        "outputId": "4d141809-4266-4cb9-94fa-e78e75a587cc"
      },
      "outputs": [
        {
          "name": "stdout",
          "output_type": "stream",
          "text": [
            "45466\n"
          ]
        },
        {
          "data": {
            "text/plain": [
              "45466"
            ]
          },
          "execution_count": 48,
          "metadata": {},
          "output_type": "execute_result"
        }
      ],
      "source": [
        "print(len(data_df['file_name']))\n",
        "d = data_df.drop_duplicates(subset = 'file_name', ignore_index=True) # check for duplicates\n",
        "len(d['file_name'])"
      ]
    },
    {
      "cell_type": "markdown",
      "metadata": {
        "id": "xX-B7FLECUdz"
      },
      "source": [
        "getting the list of image names, checking for duplicates"
      ]
    },
    {
      "cell_type": "code",
      "execution_count": null,
      "metadata": {
        "colab": {
          "base_uri": "https://localhost:8080/"
        },
        "id": "Gw7mhILQqmZc",
        "outputId": "4ada6fcd-d1b6-48ed-dfaf-40b225ab88e4"
      },
      "outputs": [
        {
          "name": "stdout",
          "output_type": "stream",
          "text": [
            "44778\n"
          ]
        },
        {
          "data": {
            "text/plain": [
              "44778"
            ]
          },
          "execution_count": 38,
          "metadata": {},
          "output_type": "execute_result"
        }
      ],
      "source": [
        "path_to_images = 'path_to_images'\n",
        "filepaths_img = glob(path_to_images + '/*.png') # get list of png files in folder\n",
        "print(len(filepaths_img)) # get the number of png files\n",
        "file_names_img = [os.path.basename(img_path) for img_path in filepaths_img]\n",
        "file_names_img_dupldrop = list(set(file_names_img)) # check for duplicates\n",
        "len(file_names_img_dupldrop)"
      ]
    },
    {
      "cell_type": "markdown",
      "metadata": {
        "id": "GN04vK_fDlVB"
      },
      "source": [
        "checking for meta data files that don't correspond to the image files and remove them from the dataframe"
      ]
    },
    {
      "cell_type": "code",
      "execution_count": null,
      "metadata": {
        "id": "Vc3Gwqaj-VGT"
      },
      "outputs": [],
      "source": [
        "data_df['file_name'] = data_df['file_name'].apply(lambda x: x + '.png')\n",
        "data_df['file_name'] = data_df['file_name'].apply(lambda x: x if x in file_names_img else 'absent_img')\n"
      ]
    },
    {
      "cell_type": "code",
      "execution_count": null,
      "metadata": {
        "colab": {
          "base_uri": "https://localhost:8080/"
        },
        "id": "fChhUrkKElz9",
        "outputId": "3ed3ffb7-1efe-47e7-d7e8-dd255e1b29fe"
      },
      "outputs": [
        {
          "name": "stdout",
          "output_type": "stream",
          "text": [
            "<class 'pandas.core.frame.DataFrame'>\n",
            "RangeIndex: 44778 entries, 0 to 44777\n",
            "Data columns (total 8 columns):\n",
            " #   Column          Non-Null Count  Dtype \n",
            "---  ------          --------------  ----- \n",
            " 0   Unnamed: 0.1    44778 non-null  int64 \n",
            " 1   Unnamed: 0      44778 non-null  int64 \n",
            " 2   class_label     44778 non-null  object\n",
            " 3   severity_label  44778 non-null  object\n",
            " 4   job             44778 non-null  int64 \n",
            " 5   frame           44778 non-null  int64 \n",
            " 6   validated       44778 non-null  bool  \n",
            " 7   file_name       44778 non-null  object\n",
            "dtypes: bool(1), int64(4), object(3)\n",
            "memory usage: 2.4+ MB\n"
          ]
        }
      ],
      "source": [
        "data_df = data_df[data_df.file_name != 'absent_img']\n",
        "data_df.index = range(len(data_df))\n",
        "data_df.info()"
      ]
    },
    {
      "cell_type": "markdown",
      "metadata": {
        "id": "03xVMeu3KUHP"
      },
      "source": [
        "saving new dataframe to csv for using it as annotation file in dataset_loader"
      ]
    },
    {
      "cell_type": "code",
      "execution_count": null,
      "metadata": {
        "colab": {
          "base_uri": "https://localhost:8080/",
          "height": 161
        },
        "id": "Sfm53UvARHwA",
        "outputId": "056d674b-e60f-409f-e045-1402b0b92030"
      },
      "outputs": [
        {
          "data": {
            "application/vnd.google.colaboratory.intrinsic+json": {
              "summary": "{\n  \"name\": \"data_df\",\n  \"rows\": 44778,\n  \"fields\": [\n    {\n      \"column\": \"Unnamed: 0.1\",\n      \"properties\": {\n        \"dtype\": \"number\",\n        \"std\": 13120,\n        \"min\": 0,\n        \"max\": 45465,\n        \"samples\": [\n          8429,\n          19589,\n          8666\n        ],\n        \"num_unique_values\": 44778,\n        \"semantic_type\": \"\",\n        \"description\": \"\"\n      }\n    },\n    {\n      \"column\": \"Unnamed: 0\",\n      \"properties\": {\n        \"dtype\": \"number\",\n        \"std\": 13120,\n        \"min\": 0,\n        \"max\": 45465,\n        \"samples\": [\n          8429,\n          19589,\n          8666\n        ],\n        \"num_unique_values\": 44778,\n        \"semantic_type\": \"\",\n        \"description\": \"\"\n      }\n    },\n    {\n      \"column\": \"class_label\",\n      \"properties\": {\n        \"dtype\": \"category\",\n        \"samples\": [\n          \"crack_longitudinal\",\n          \"raveling\",\n          \"pothole\"\n        ],\n        \"num_unique_values\": 7,\n        \"semantic_type\": \"\",\n        \"description\": \"\"\n      }\n    },\n    {\n      \"column\": \"severity_label\",\n      \"properties\": {\n        \"dtype\": \"category\",\n        \"samples\": [\n          \"medium\",\n          \"low\",\n          \"high\"\n        ],\n        \"num_unique_values\": 3,\n        \"semantic_type\": \"\",\n        \"description\": \"\"\n      }\n    },\n    {\n      \"column\": \"job\",\n      \"properties\": {\n        \"dtype\": \"number\",\n        \"std\": 187,\n        \"min\": 3317,\n        \"max\": 4288,\n        \"samples\": [\n          3359,\n          3410,\n          4285\n        ],\n        \"num_unique_values\": 283,\n        \"semantic_type\": \"\",\n        \"description\": \"\"\n      }\n    },\n    {\n      \"column\": \"frame\",\n      \"properties\": {\n        \"dtype\": \"number\",\n        \"std\": 528,\n        \"min\": 6,\n        \"max\": 2401,\n        \"samples\": [\n          701,\n          1930,\n          1098\n        ],\n        \"num_unique_values\": 1715,\n        \"semantic_type\": \"\",\n        \"description\": \"\"\n      }\n    },\n    {\n      \"column\": \"validated\",\n      \"properties\": {\n        \"dtype\": \"boolean\",\n        \"samples\": [\n          true,\n          false\n        ],\n        \"num_unique_values\": 2,\n        \"semantic_type\": \"\",\n        \"description\": \"\"\n      }\n    },\n    {\n      \"column\": \"file_name\",\n      \"properties\": {\n        \"dtype\": \"string\",\n        \"samples\": [\n          \"3595_830_21.png\",\n          \"3525_196_40.png\"\n        ],\n        \"num_unique_values\": 44778,\n        \"semantic_type\": \"\",\n        \"description\": \"\"\n      }\n    }\n  ]\n}",
              "type": "dataframe",
              "variable_name": "data_df"
            },
            "text/html": [
              "\n",
              "  <div id=\"df-a7be6912-5e4a-4c62-b409-6d6c35a0e5c8\" class=\"colab-df-container\">\n",
              "    <div>\n",
              "<style scoped>\n",
              "    .dataframe tbody tr th:only-of-type {\n",
              "        vertical-align: middle;\n",
              "    }\n",
              "\n",
              "    .dataframe tbody tr th {\n",
              "        vertical-align: top;\n",
              "    }\n",
              "\n",
              "    .dataframe thead th {\n",
              "        text-align: right;\n",
              "    }\n",
              "</style>\n",
              "<table border=\"1\" class=\"dataframe\">\n",
              "  <thead>\n",
              "    <tr style=\"text-align: right;\">\n",
              "      <th></th>\n",
              "      <th>Unnamed: 0.1</th>\n",
              "      <th>Unnamed: 0</th>\n",
              "      <th>class_label</th>\n",
              "      <th>severity_label</th>\n",
              "      <th>job</th>\n",
              "      <th>frame</th>\n",
              "      <th>validated</th>\n",
              "      <th>file_name</th>\n",
              "    </tr>\n",
              "  </thead>\n",
              "  <tbody>\n",
              "    <tr>\n",
              "      <th>0</th>\n",
              "      <td>0</td>\n",
              "      <td>0</td>\n",
              "      <td>crack_longitudinal</td>\n",
              "      <td>medium</td>\n",
              "      <td>3640</td>\n",
              "      <td>1102</td>\n",
              "      <td>False</td>\n",
              "      <td>3640_1102_21.png</td>\n",
              "    </tr>\n",
              "    <tr>\n",
              "      <th>1</th>\n",
              "      <td>1</td>\n",
              "      <td>1</td>\n",
              "      <td>crack_longitudinal</td>\n",
              "      <td>low</td>\n",
              "      <td>3394</td>\n",
              "      <td>275</td>\n",
              "      <td>False</td>\n",
              "      <td>3394_275_52.png</td>\n",
              "    </tr>\n",
              "    <tr>\n",
              "      <th>2</th>\n",
              "      <td>2</td>\n",
              "      <td>2</td>\n",
              "      <td>raveling</td>\n",
              "      <td>high</td>\n",
              "      <td>3352</td>\n",
              "      <td>640</td>\n",
              "      <td>False</td>\n",
              "      <td>3352_640_16.png</td>\n",
              "    </tr>\n",
              "  </tbody>\n",
              "</table>\n",
              "</div>\n",
              "    <div class=\"colab-df-buttons\">\n",
              "\n",
              "  <div class=\"colab-df-container\">\n",
              "    <button class=\"colab-df-convert\" onclick=\"convertToInteractive('df-a7be6912-5e4a-4c62-b409-6d6c35a0e5c8')\"\n",
              "            title=\"Convert this dataframe to an interactive table.\"\n",
              "            style=\"display:none;\">\n",
              "\n",
              "  <svg xmlns=\"http://www.w3.org/2000/svg\" height=\"24px\" viewBox=\"0 -960 960 960\">\n",
              "    <path d=\"M120-120v-720h720v720H120Zm60-500h600v-160H180v160Zm220 220h160v-160H400v160Zm0 220h160v-160H400v160ZM180-400h160v-160H180v160Zm440 0h160v-160H620v160ZM180-180h160v-160H180v160Zm440 0h160v-160H620v160Z\"/>\n",
              "  </svg>\n",
              "    </button>\n",
              "\n",
              "  <style>\n",
              "    .colab-df-container {\n",
              "      display:flex;\n",
              "      gap: 12px;\n",
              "    }\n",
              "\n",
              "    .colab-df-convert {\n",
              "      background-color: #E8F0FE;\n",
              "      border: none;\n",
              "      border-radius: 50%;\n",
              "      cursor: pointer;\n",
              "      display: none;\n",
              "      fill: #1967D2;\n",
              "      height: 32px;\n",
              "      padding: 0 0 0 0;\n",
              "      width: 32px;\n",
              "    }\n",
              "\n",
              "    .colab-df-convert:hover {\n",
              "      background-color: #E2EBFA;\n",
              "      box-shadow: 0px 1px 2px rgba(60, 64, 67, 0.3), 0px 1px 3px 1px rgba(60, 64, 67, 0.15);\n",
              "      fill: #174EA6;\n",
              "    }\n",
              "\n",
              "    .colab-df-buttons div {\n",
              "      margin-bottom: 4px;\n",
              "    }\n",
              "\n",
              "    [theme=dark] .colab-df-convert {\n",
              "      background-color: #3B4455;\n",
              "      fill: #D2E3FC;\n",
              "    }\n",
              "\n",
              "    [theme=dark] .colab-df-convert:hover {\n",
              "      background-color: #434B5C;\n",
              "      box-shadow: 0px 1px 3px 1px rgba(0, 0, 0, 0.15);\n",
              "      filter: drop-shadow(0px 1px 2px rgba(0, 0, 0, 0.3));\n",
              "      fill: #FFFFFF;\n",
              "    }\n",
              "  </style>\n",
              "\n",
              "    <script>\n",
              "      const buttonEl =\n",
              "        document.querySelector('#df-a7be6912-5e4a-4c62-b409-6d6c35a0e5c8 button.colab-df-convert');\n",
              "      buttonEl.style.display =\n",
              "        google.colab.kernel.accessAllowed ? 'block' : 'none';\n",
              "\n",
              "      async function convertToInteractive(key) {\n",
              "        const element = document.querySelector('#df-a7be6912-5e4a-4c62-b409-6d6c35a0e5c8');\n",
              "        const dataTable =\n",
              "          await google.colab.kernel.invokeFunction('convertToInteractive',\n",
              "                                                    [key], {});\n",
              "        if (!dataTable) return;\n",
              "\n",
              "        const docLinkHtml = 'Like what you see? Visit the ' +\n",
              "          '<a target=\"_blank\" href=https://colab.research.google.com/notebooks/data_table.ipynb>data table notebook</a>'\n",
              "          + ' to learn more about interactive tables.';\n",
              "        element.innerHTML = '';\n",
              "        dataTable['output_type'] = 'display_data';\n",
              "        await google.colab.output.renderOutput(dataTable, element);\n",
              "        const docLink = document.createElement('div');\n",
              "        docLink.innerHTML = docLinkHtml;\n",
              "        element.appendChild(docLink);\n",
              "      }\n",
              "    </script>\n",
              "  </div>\n",
              "\n",
              "\n",
              "<div id=\"df-48b5c070-225d-4ed4-9168-092f0d8c3138\">\n",
              "  <button class=\"colab-df-quickchart\" onclick=\"quickchart('df-48b5c070-225d-4ed4-9168-092f0d8c3138')\"\n",
              "            title=\"Suggest charts\"\n",
              "            style=\"display:none;\">\n",
              "\n",
              "<svg xmlns=\"http://www.w3.org/2000/svg\" height=\"24px\"viewBox=\"0 0 24 24\"\n",
              "     width=\"24px\">\n",
              "    <g>\n",
              "        <path d=\"M19 3H5c-1.1 0-2 .9-2 2v14c0 1.1.9 2 2 2h14c1.1 0 2-.9 2-2V5c0-1.1-.9-2-2-2zM9 17H7v-7h2v7zm4 0h-2V7h2v10zm4 0h-2v-4h2v4z\"/>\n",
              "    </g>\n",
              "</svg>\n",
              "  </button>\n",
              "\n",
              "<style>\n",
              "  .colab-df-quickchart {\n",
              "      --bg-color: #E8F0FE;\n",
              "      --fill-color: #1967D2;\n",
              "      --hover-bg-color: #E2EBFA;\n",
              "      --hover-fill-color: #174EA6;\n",
              "      --disabled-fill-color: #AAA;\n",
              "      --disabled-bg-color: #DDD;\n",
              "  }\n",
              "\n",
              "  [theme=dark] .colab-df-quickchart {\n",
              "      --bg-color: #3B4455;\n",
              "      --fill-color: #D2E3FC;\n",
              "      --hover-bg-color: #434B5C;\n",
              "      --hover-fill-color: #FFFFFF;\n",
              "      --disabled-bg-color: #3B4455;\n",
              "      --disabled-fill-color: #666;\n",
              "  }\n",
              "\n",
              "  .colab-df-quickchart {\n",
              "    background-color: var(--bg-color);\n",
              "    border: none;\n",
              "    border-radius: 50%;\n",
              "    cursor: pointer;\n",
              "    display: none;\n",
              "    fill: var(--fill-color);\n",
              "    height: 32px;\n",
              "    padding: 0;\n",
              "    width: 32px;\n",
              "  }\n",
              "\n",
              "  .colab-df-quickchart:hover {\n",
              "    background-color: var(--hover-bg-color);\n",
              "    box-shadow: 0 1px 2px rgba(60, 64, 67, 0.3), 0 1px 3px 1px rgba(60, 64, 67, 0.15);\n",
              "    fill: var(--button-hover-fill-color);\n",
              "  }\n",
              "\n",
              "  .colab-df-quickchart-complete:disabled,\n",
              "  .colab-df-quickchart-complete:disabled:hover {\n",
              "    background-color: var(--disabled-bg-color);\n",
              "    fill: var(--disabled-fill-color);\n",
              "    box-shadow: none;\n",
              "  }\n",
              "\n",
              "  .colab-df-spinner {\n",
              "    border: 2px solid var(--fill-color);\n",
              "    border-color: transparent;\n",
              "    border-bottom-color: var(--fill-color);\n",
              "    animation:\n",
              "      spin 1s steps(1) infinite;\n",
              "  }\n",
              "\n",
              "  @keyframes spin {\n",
              "    0% {\n",
              "      border-color: transparent;\n",
              "      border-bottom-color: var(--fill-color);\n",
              "      border-left-color: var(--fill-color);\n",
              "    }\n",
              "    20% {\n",
              "      border-color: transparent;\n",
              "      border-left-color: var(--fill-color);\n",
              "      border-top-color: var(--fill-color);\n",
              "    }\n",
              "    30% {\n",
              "      border-color: transparent;\n",
              "      border-left-color: var(--fill-color);\n",
              "      border-top-color: var(--fill-color);\n",
              "      border-right-color: var(--fill-color);\n",
              "    }\n",
              "    40% {\n",
              "      border-color: transparent;\n",
              "      border-right-color: var(--fill-color);\n",
              "      border-top-color: var(--fill-color);\n",
              "    }\n",
              "    60% {\n",
              "      border-color: transparent;\n",
              "      border-right-color: var(--fill-color);\n",
              "    }\n",
              "    80% {\n",
              "      border-color: transparent;\n",
              "      border-right-color: var(--fill-color);\n",
              "      border-bottom-color: var(--fill-color);\n",
              "    }\n",
              "    90% {\n",
              "      border-color: transparent;\n",
              "      border-bottom-color: var(--fill-color);\n",
              "    }\n",
              "  }\n",
              "</style>\n",
              "\n",
              "  <script>\n",
              "    async function quickchart(key) {\n",
              "      const quickchartButtonEl =\n",
              "        document.querySelector('#' + key + ' button');\n",
              "      quickchartButtonEl.disabled = true;  // To prevent multiple clicks.\n",
              "      quickchartButtonEl.classList.add('colab-df-spinner');\n",
              "      try {\n",
              "        const charts = await google.colab.kernel.invokeFunction(\n",
              "            'suggestCharts', [key], {});\n",
              "      } catch (error) {\n",
              "        console.error('Error during call to suggestCharts:', error);\n",
              "      }\n",
              "      quickchartButtonEl.classList.remove('colab-df-spinner');\n",
              "      quickchartButtonEl.classList.add('colab-df-quickchart-complete');\n",
              "    }\n",
              "    (() => {\n",
              "      let quickchartButtonEl =\n",
              "        document.querySelector('#df-48b5c070-225d-4ed4-9168-092f0d8c3138 button');\n",
              "      quickchartButtonEl.style.display =\n",
              "        google.colab.kernel.accessAllowed ? 'block' : 'none';\n",
              "    })();\n",
              "  </script>\n",
              "</div>\n",
              "    </div>\n",
              "  </div>\n"
            ],
            "text/plain": [
              "   Unnamed: 0.1  Unnamed: 0         class_label severity_label   job  frame  \\\n",
              "0             0           0  crack_longitudinal         medium  3640   1102   \n",
              "1             1           1  crack_longitudinal            low  3394    275   \n",
              "2             2           2            raveling           high  3352    640   \n",
              "\n",
              "   validated         file_name  \n",
              "0      False  3640_1102_21.png  \n",
              "1      False   3394_275_52.png  \n",
              "2      False   3352_640_16.png  "
            ]
          },
          "execution_count": 55,
          "metadata": {},
          "output_type": "execute_result"
        }
      ],
      "source": [
        "data_df.head(3)"
      ]
    },
    {
      "cell_type": "code",
      "execution_count": null,
      "metadata": {
        "id": "e_cv5xFeKiAF"
      },
      "outputs": [],
      "source": [
        "data_df.to_csv('meta_medium.csv')"
      ]
    },
    {
      "cell_type": "markdown",
      "metadata": {
        "id": "8ZhveGF9Hgf0"
      },
      "source": [
        "## Data analysis\n",
        "\n",
        "checking for class balance"
      ]
    },
    {
      "cell_type": "code",
      "execution_count": 3,
      "metadata": {
        "id": "JH5MHGPQwokM"
      },
      "outputs": [],
      "source": [
        "meta_medium_df = pd.read_csv('meta_medium.csv')\n",
        "data_df = meta_medium_df.copy()"
      ]
    },
    {
      "cell_type": "code",
      "execution_count": 4,
      "metadata": {
        "colab": {
          "base_uri": "https://localhost:8080/"
        },
        "id": "lfp4X9jm1zUa",
        "outputId": "1c150f1f-33c6-4eca-857c-5c7fb642ee88"
      },
      "outputs": [
        {
          "data": {
            "text/plain": [
              "array(['Unnamed: 0', 'class_label', 'severity_label', 'job', 'frame',\n",
              "       'validated', 'file_name'], dtype=object)"
            ]
          },
          "execution_count": 4,
          "metadata": {},
          "output_type": "execute_result"
        }
      ],
      "source": [
        "data_df.columns.values"
      ]
    },
    {
      "cell_type": "code",
      "execution_count": 6,
      "metadata": {
        "colab": {
          "base_uri": "https://localhost:8080/",
          "height": 206
        },
        "id": "PRPP72iv1Pv8",
        "outputId": "a7b26d11-fbb2-462a-899d-558b1401f234"
      },
      "outputs": [
        {
          "data": {
            "text/html": [
              "<div>\n",
              "<style scoped>\n",
              "    .dataframe tbody tr th:only-of-type {\n",
              "        vertical-align: middle;\n",
              "    }\n",
              "\n",
              "    .dataframe tbody tr th {\n",
              "        vertical-align: top;\n",
              "    }\n",
              "\n",
              "    .dataframe thead th {\n",
              "        text-align: right;\n",
              "    }\n",
              "</style>\n",
              "<table border=\"1\" class=\"dataframe\">\n",
              "  <thead>\n",
              "    <tr style=\"text-align: right;\">\n",
              "      <th></th>\n",
              "      <th>class_label</th>\n",
              "      <th>severity_label</th>\n",
              "      <th>job</th>\n",
              "      <th>frame</th>\n",
              "      <th>validated</th>\n",
              "      <th>file_name</th>\n",
              "    </tr>\n",
              "  </thead>\n",
              "  <tbody>\n",
              "    <tr>\n",
              "      <th>0</th>\n",
              "      <td>crack_longitudinal</td>\n",
              "      <td>medium</td>\n",
              "      <td>3640</td>\n",
              "      <td>1102</td>\n",
              "      <td>False</td>\n",
              "      <td>3640_1102_21.png</td>\n",
              "    </tr>\n",
              "    <tr>\n",
              "      <th>1</th>\n",
              "      <td>crack_longitudinal</td>\n",
              "      <td>low</td>\n",
              "      <td>3394</td>\n",
              "      <td>275</td>\n",
              "      <td>False</td>\n",
              "      <td>3394_275_52.png</td>\n",
              "    </tr>\n",
              "    <tr>\n",
              "      <th>2</th>\n",
              "      <td>raveling</td>\n",
              "      <td>high</td>\n",
              "      <td>3352</td>\n",
              "      <td>640</td>\n",
              "      <td>False</td>\n",
              "      <td>3352_640_16.png</td>\n",
              "    </tr>\n",
              "    <tr>\n",
              "      <th>3</th>\n",
              "      <td>patches</td>\n",
              "      <td>low</td>\n",
              "      <td>3592</td>\n",
              "      <td>364</td>\n",
              "      <td>True</td>\n",
              "      <td>3592_364_44.png</td>\n",
              "    </tr>\n",
              "    <tr>\n",
              "      <th>4</th>\n",
              "      <td>crack_alligator_area</td>\n",
              "      <td>high</td>\n",
              "      <td>3328</td>\n",
              "      <td>523</td>\n",
              "      <td>False</td>\n",
              "      <td>3328_523_16.png</td>\n",
              "    </tr>\n",
              "  </tbody>\n",
              "</table>\n",
              "</div>"
            ],
            "text/plain": [
              "            class_label severity_label   job  frame  validated  \\\n",
              "0    crack_longitudinal         medium  3640   1102      False   \n",
              "1    crack_longitudinal            low  3394    275      False   \n",
              "2              raveling           high  3352    640      False   \n",
              "3               patches            low  3592    364       True   \n",
              "4  crack_alligator_area           high  3328    523      False   \n",
              "\n",
              "          file_name  \n",
              "0  3640_1102_21.png  \n",
              "1   3394_275_52.png  \n",
              "2   3352_640_16.png  \n",
              "3   3592_364_44.png  \n",
              "4   3328_523_16.png  "
            ]
          },
          "execution_count": 6,
          "metadata": {},
          "output_type": "execute_result"
        }
      ],
      "source": [
        "data_df.drop(columns = ['Unnamed: 0'], inplace = True)\n",
        "data_df.head()"
      ]
    },
    {
      "cell_type": "code",
      "execution_count": null,
      "metadata": {
        "id": "HE0hAxXYSPm0"
      },
      "outputs": [],
      "source": [
        "data_df.to_csv('/content/drive/MyDrive/Roadly/meta_medium.csv')"
      ]
    },
    {
      "cell_type": "code",
      "execution_count": null,
      "metadata": {
        "id": "CnLb3zD49gcp"
      },
      "outputs": [],
      "source": [
        "data_df = pd.read_csv('/content/drive/MyDrive/Roadly/meta_medium.csv')"
      ]
    },
    {
      "cell_type": "code",
      "execution_count": 7,
      "metadata": {
        "colab": {
          "base_uri": "https://localhost:8080/"
        },
        "id": "e1PaEGOu4SS_",
        "outputId": "1a53d9cf-e05e-4623-f016-1f3964db9f1a"
      },
      "outputs": [
        {
          "name": "stdout",
          "output_type": "stream",
          "text": [
            "<class 'pandas.core.frame.DataFrame'>\n",
            "RangeIndex: 44778 entries, 0 to 44777\n",
            "Data columns (total 6 columns):\n",
            " #   Column          Non-Null Count  Dtype \n",
            "---  ------          --------------  ----- \n",
            " 0   class_label     44778 non-null  object\n",
            " 1   severity_label  44778 non-null  object\n",
            " 2   job             44778 non-null  int64 \n",
            " 3   frame           44778 non-null  int64 \n",
            " 4   validated       44778 non-null  bool  \n",
            " 5   file_name       44778 non-null  object\n",
            "dtypes: bool(1), int64(2), object(3)\n",
            "memory usage: 1.8+ MB\n"
          ]
        }
      ],
      "source": [
        "data_df.info()"
      ]
    },
    {
      "cell_type": "code",
      "execution_count": 8,
      "metadata": {
        "id": "Rkxz9MwA2nIe"
      },
      "outputs": [],
      "source": [
        "class_df = data_df.groupby(['class_label']).agg({\n",
        "    'job':'nunique',\n",
        "    'validated':'sum',\n",
        "    'file_name': 'count'\n",
        "}).reset_index().rename(columns={'job': 'job_count', 'validated': 'validated_count', 'file_name': 'file_count'})"
      ]
    },
    {
      "cell_type": "code",
      "execution_count": 10,
      "metadata": {
        "colab": {
          "base_uri": "https://localhost:8080/",
          "height": 206
        },
        "id": "n06zrcte3Di6",
        "outputId": "1a2a935c-2395-4eee-adf4-7d69d3575a3c"
      },
      "outputs": [
        {
          "data": {
            "text/html": [
              "<div>\n",
              "<style scoped>\n",
              "    .dataframe tbody tr th:only-of-type {\n",
              "        vertical-align: middle;\n",
              "    }\n",
              "\n",
              "    .dataframe tbody tr th {\n",
              "        vertical-align: top;\n",
              "    }\n",
              "\n",
              "    .dataframe thead th {\n",
              "        text-align: right;\n",
              "    }\n",
              "</style>\n",
              "<table border=\"1\" class=\"dataframe\">\n",
              "  <thead>\n",
              "    <tr style=\"text-align: right;\">\n",
              "      <th></th>\n",
              "      <th>class_label</th>\n",
              "      <th>job_count</th>\n",
              "      <th>validated_count</th>\n",
              "      <th>file_count</th>\n",
              "      <th>validation_percent</th>\n",
              "    </tr>\n",
              "  </thead>\n",
              "  <tbody>\n",
              "    <tr>\n",
              "      <th>0</th>\n",
              "      <td>crack_alligator_area</td>\n",
              "      <td>77</td>\n",
              "      <td>40</td>\n",
              "      <td>785</td>\n",
              "      <td>5.095541</td>\n",
              "    </tr>\n",
              "    <tr>\n",
              "      <th>1</th>\n",
              "      <td>crack_longitudinal</td>\n",
              "      <td>258</td>\n",
              "      <td>1735</td>\n",
              "      <td>19572</td>\n",
              "      <td>8.864705</td>\n",
              "    </tr>\n",
              "    <tr>\n",
              "      <th>2</th>\n",
              "      <td>crack_reflection</td>\n",
              "      <td>50</td>\n",
              "      <td>0</td>\n",
              "      <td>1847</td>\n",
              "      <td>0.000000</td>\n",
              "    </tr>\n",
              "    <tr>\n",
              "      <th>3</th>\n",
              "      <td>crack_transversal</td>\n",
              "      <td>238</td>\n",
              "      <td>1702</td>\n",
              "      <td>13198</td>\n",
              "      <td>12.895893</td>\n",
              "    </tr>\n",
              "    <tr>\n",
              "      <th>4</th>\n",
              "      <td>patches</td>\n",
              "      <td>198</td>\n",
              "      <td>939</td>\n",
              "      <td>5692</td>\n",
              "      <td>16.496838</td>\n",
              "    </tr>\n",
              "    <tr>\n",
              "      <th>5</th>\n",
              "      <td>pothole</td>\n",
              "      <td>173</td>\n",
              "      <td>27</td>\n",
              "      <td>2149</td>\n",
              "      <td>1.256398</td>\n",
              "    </tr>\n",
              "    <tr>\n",
              "      <th>6</th>\n",
              "      <td>raveling</td>\n",
              "      <td>95</td>\n",
              "      <td>46</td>\n",
              "      <td>1535</td>\n",
              "      <td>2.996743</td>\n",
              "    </tr>\n",
              "  </tbody>\n",
              "</table>\n",
              "</div>"
            ],
            "text/plain": [
              "            class_label  job_count  validated_count  file_count  \\\n",
              "0  crack_alligator_area         77               40         785   \n",
              "1    crack_longitudinal        258             1735       19572   \n",
              "2      crack_reflection         50                0        1847   \n",
              "3     crack_transversal        238             1702       13198   \n",
              "4               patches        198              939        5692   \n",
              "5               pothole        173               27        2149   \n",
              "6              raveling         95               46        1535   \n",
              "\n",
              "   validation_percent  \n",
              "0            5.095541  \n",
              "1            8.864705  \n",
              "2            0.000000  \n",
              "3           12.895893  \n",
              "4           16.496838  \n",
              "5            1.256398  \n",
              "6            2.996743  "
            ]
          },
          "execution_count": 10,
          "metadata": {},
          "output_type": "execute_result"
        }
      ],
      "source": [
        "class_df['validation_percent'] = class_df['validated_count']/class_df['file_count']*100\n",
        "class_df"
      ]
    },
    {
      "cell_type": "code",
      "execution_count": null,
      "metadata": {
        "colab": {
          "base_uri": "https://localhost:8080/"
        },
        "id": "EwUqvsxlHa0V",
        "outputId": "550529a1-5842-4e7c-e248-c3df400f1b96"
      },
      "outputs": [],
      "source": [
        "data_df[data_df['validated'] == 1].job.value_counts().nlargest(15)"
      ]
    },
    {
      "cell_type": "code",
      "execution_count": 29,
      "metadata": {},
      "outputs": [
        {
          "data": {
            "text/plain": [
              "validated\n",
              "True    193\n",
              "Name: count, dtype: int64"
            ]
          },
          "execution_count": 29,
          "metadata": {},
          "output_type": "execute_result"
        }
      ],
      "source": [
        "data_df[data_df['job'] == 3599].validated.value_counts().nlargest()"
      ]
    },
    {
      "cell_type": "code",
      "execution_count": 11,
      "metadata": {},
      "outputs": [],
      "source": [
        "job_df = data_df.groupby(['job']).agg({\n",
        "    'class_label':'nunique',\n",
        "    'validated':'sum',\n",
        "    'file_name': 'count'\n",
        "}).reset_index().rename(columns={'class_label': 'class_label', 'validated': 'validated_count', 'file_name': 'file_count'})"
      ]
    },
    {
      "cell_type": "code",
      "execution_count": 28,
      "metadata": {},
      "outputs": [
        {
          "data": {
            "text/html": [
              "<div>\n",
              "<style scoped>\n",
              "    .dataframe tbody tr th:only-of-type {\n",
              "        vertical-align: middle;\n",
              "    }\n",
              "\n",
              "    .dataframe tbody tr th {\n",
              "        vertical-align: top;\n",
              "    }\n",
              "\n",
              "    .dataframe thead th {\n",
              "        text-align: right;\n",
              "    }\n",
              "</style>\n",
              "<table border=\"1\" class=\"dataframe\">\n",
              "  <thead>\n",
              "    <tr style=\"text-align: right;\">\n",
              "      <th></th>\n",
              "      <th>job</th>\n",
              "      <th>class_label</th>\n",
              "      <th>validated_count</th>\n",
              "      <th>file_count</th>\n",
              "    </tr>\n",
              "  </thead>\n",
              "  <tbody>\n",
              "    <tr>\n",
              "      <th>162</th>\n",
              "      <td>3589</td>\n",
              "      <td>6</td>\n",
              "      <td>326</td>\n",
              "      <td>326</td>\n",
              "    </tr>\n",
              "    <tr>\n",
              "      <th>163</th>\n",
              "      <td>3590</td>\n",
              "      <td>4</td>\n",
              "      <td>764</td>\n",
              "      <td>764</td>\n",
              "    </tr>\n",
              "    <tr>\n",
              "      <th>164</th>\n",
              "      <td>3591</td>\n",
              "      <td>5</td>\n",
              "      <td>386</td>\n",
              "      <td>386</td>\n",
              "    </tr>\n",
              "    <tr>\n",
              "      <th>165</th>\n",
              "      <td>3592</td>\n",
              "      <td>4</td>\n",
              "      <td>567</td>\n",
              "      <td>567</td>\n",
              "    </tr>\n",
              "    <tr>\n",
              "      <th>166</th>\n",
              "      <td>3593</td>\n",
              "      <td>3</td>\n",
              "      <td>504</td>\n",
              "      <td>504</td>\n",
              "    </tr>\n",
              "    <tr>\n",
              "      <th>167</th>\n",
              "      <td>3594</td>\n",
              "      <td>4</td>\n",
              "      <td>504</td>\n",
              "      <td>504</td>\n",
              "    </tr>\n",
              "    <tr>\n",
              "      <th>168</th>\n",
              "      <td>3595</td>\n",
              "      <td>3</td>\n",
              "      <td>141</td>\n",
              "      <td>141</td>\n",
              "    </tr>\n",
              "    <tr>\n",
              "      <th>169</th>\n",
              "      <td>3596</td>\n",
              "      <td>6</td>\n",
              "      <td>389</td>\n",
              "      <td>389</td>\n",
              "    </tr>\n",
              "    <tr>\n",
              "      <th>170</th>\n",
              "      <td>3597</td>\n",
              "      <td>6</td>\n",
              "      <td>327</td>\n",
              "      <td>327</td>\n",
              "    </tr>\n",
              "    <tr>\n",
              "      <th>171</th>\n",
              "      <td>3598</td>\n",
              "      <td>6</td>\n",
              "      <td>388</td>\n",
              "      <td>388</td>\n",
              "    </tr>\n",
              "    <tr>\n",
              "      <th>172</th>\n",
              "      <td>3599</td>\n",
              "      <td>6</td>\n",
              "      <td>193</td>\n",
              "      <td>193</td>\n",
              "    </tr>\n",
              "  </tbody>\n",
              "</table>\n",
              "</div>"
            ],
            "text/plain": [
              "      job  class_label  validated_count  file_count\n",
              "162  3589            6              326         326\n",
              "163  3590            4              764         764\n",
              "164  3591            5              386         386\n",
              "165  3592            4              567         567\n",
              "166  3593            3              504         504\n",
              "167  3594            4              504         504\n",
              "168  3595            3              141         141\n",
              "169  3596            6              389         389\n",
              "170  3597            6              327         327\n",
              "171  3598            6              388         388\n",
              "172  3599            6              193         193"
            ]
          },
          "execution_count": 28,
          "metadata": {},
          "output_type": "execute_result"
        }
      ],
      "source": [
        "job_df[job_df['validated_count'] != 0].head(15)"
      ]
    },
    {
      "cell_type": "code",
      "execution_count": 35,
      "metadata": {},
      "outputs": [
        {
          "data": {
            "text/plain": [
              "4489"
            ]
          },
          "execution_count": 35,
          "metadata": {},
          "output_type": "execute_result"
        }
      ],
      "source": [
        "data_df[data_df.validated == 1].file_name.count()"
      ]
    },
    {
      "cell_type": "code",
      "execution_count": 46,
      "metadata": {},
      "outputs": [],
      "source": [
        "validated_df = data_df[data_df.validated == 1]"
      ]
    },
    {
      "cell_type": "code",
      "execution_count": null,
      "metadata": {
        "colab": {
          "base_uri": "https://localhost:8080/"
        },
        "id": "v1emiuuMHxp3",
        "outputId": "91d60b0b-0874-4ea2-b905-f0bde124db23"
      },
      "outputs": [
        {
          "data": {
            "text/plain": [
              "crack_longitudinal    1609\n",
              "crack_transversal      234\n",
              "patches                 16\n",
              "Name: class_label, dtype: int64"
            ]
          },
          "execution_count": 9,
          "metadata": {},
          "output_type": "execute_result"
        }
      ],
      "source": [
        "data_df[data_df.job == 3402].class_label.value_counts().nlargest(7)"
      ]
    },
    {
      "cell_type": "code",
      "execution_count": null,
      "metadata": {
        "colab": {
          "base_uri": "https://localhost:8080/"
        },
        "id": "dSfotyd_IJNt",
        "outputId": "b6660b66-9549-4a8d-c176-bb165f075e2b"
      },
      "outputs": [
        {
          "data": {
            "text/plain": [
              "False    1859\n",
              "Name: validated, dtype: int64"
            ]
          },
          "execution_count": 10,
          "metadata": {},
          "output_type": "execute_result"
        }
      ],
      "source": [
        "data_df[data_df.job == 3402].validated.value_counts().nlargest()"
      ]
    },
    {
      "cell_type": "code",
      "execution_count": null,
      "metadata": {
        "colab": {
          "base_uri": "https://localhost:8080/",
          "height": 492
        },
        "id": "MoFNmDQD7MOo",
        "outputId": "3a29ae02-badb-406d-c0fd-6e18a935022d"
      },
      "outputs": [
        {
          "data": {
            "image/png": "[encoded data removed]",
            "text/plain": [
              "<Figure size 640x480 with 3 Axes>"
            ]
          },
          "metadata": {},
          "output_type": "display_data"
        }
      ],
      "source": [
        "#\n",
        "fig, axs = plt.subplots(3, sharex=True)\n",
        "sns.barplot(data=class_df, x='class_label', y='job_count', ax= axs[0])\n",
        "sns.barplot(data=class_df, x='class_label', y='file_count', ax= axs[1])\n",
        "sns.barplot(data=class_df, x='class_label', y='validation_percent', ax= axs[2])\n",
        "\n",
        "fig.suptitle('Data distribution through the classes')\n",
        "axs[2].xaxis.set_tick_params(rotation=45)\n",
        "fig.tight_layout();"
      ]
    },
    {
      "cell_type": "code",
      "execution_count": 51,
      "metadata": {},
      "outputs": [
        {
          "data": {
            "text/html": [
              "<div>\n",
              "<style scoped>\n",
              "    .dataframe tbody tr th:only-of-type {\n",
              "        vertical-align: middle;\n",
              "    }\n",
              "\n",
              "    .dataframe tbody tr th {\n",
              "        vertical-align: top;\n",
              "    }\n",
              "\n",
              "    .dataframe thead th {\n",
              "        text-align: right;\n",
              "    }\n",
              "</style>\n",
              "<table border=\"1\" class=\"dataframe\">\n",
              "  <thead>\n",
              "    <tr style=\"text-align: right;\">\n",
              "      <th></th>\n",
              "      <th>job</th>\n",
              "      <th>class_label</th>\n",
              "      <th>validated_count</th>\n",
              "      <th>file_count</th>\n",
              "    </tr>\n",
              "  </thead>\n",
              "  <tbody>\n",
              "    <tr>\n",
              "      <th>48</th>\n",
              "      <td>3387</td>\n",
              "      <td>7</td>\n",
              "      <td>0</td>\n",
              "      <td>350</td>\n",
              "    </tr>\n",
              "    <tr>\n",
              "      <th>47</th>\n",
              "      <td>3386</td>\n",
              "      <td>7</td>\n",
              "      <td>0</td>\n",
              "      <td>299</td>\n",
              "    </tr>\n",
              "    <tr>\n",
              "      <th>53</th>\n",
              "      <td>3393</td>\n",
              "      <td>7</td>\n",
              "      <td>0</td>\n",
              "      <td>287</td>\n",
              "    </tr>\n",
              "    <tr>\n",
              "      <th>77</th>\n",
              "      <td>3418</td>\n",
              "      <td>7</td>\n",
              "      <td>0</td>\n",
              "      <td>287</td>\n",
              "    </tr>\n",
              "    <tr>\n",
              "      <th>74</th>\n",
              "      <td>3415</td>\n",
              "      <td>7</td>\n",
              "      <td>0</td>\n",
              "      <td>194</td>\n",
              "    </tr>\n",
              "  </tbody>\n",
              "</table>\n",
              "</div>"
            ],
            "text/plain": [
              "     job  class_label  validated_count  file_count\n",
              "48  3387            7                0         350\n",
              "47  3386            7                0         299\n",
              "53  3393            7                0         287\n",
              "77  3418            7                0         287\n",
              "74  3415            7                0         194"
            ]
          },
          "execution_count": 51,
          "metadata": {},
          "output_type": "execute_result"
        }
      ],
      "source": [
        "job_df[job_df['class_label'] == 7].sort_values(by = 'file_count', ascending=False).head(10)"
      ]
    },
    {
      "cell_type": "code",
      "execution_count": 55,
      "metadata": {},
      "outputs": [
        {
          "data": {
            "text/html": [
              "<div>\n",
              "<style scoped>\n",
              "    .dataframe tbody tr th:only-of-type {\n",
              "        vertical-align: middle;\n",
              "    }\n",
              "\n",
              "    .dataframe tbody tr th {\n",
              "        vertical-align: top;\n",
              "    }\n",
              "\n",
              "    .dataframe thead th {\n",
              "        text-align: right;\n",
              "    }\n",
              "</style>\n",
              "<table border=\"1\" class=\"dataframe\">\n",
              "  <thead>\n",
              "    <tr style=\"text-align: right;\">\n",
              "      <th></th>\n",
              "      <th>job</th>\n",
              "      <th>validated_count</th>\n",
              "      <th>file_count</th>\n",
              "    </tr>\n",
              "  </thead>\n",
              "  <tbody>\n",
              "    <tr>\n",
              "      <th>8</th>\n",
              "      <td>3351</td>\n",
              "      <td>0</td>\n",
              "      <td>163</td>\n",
              "    </tr>\n",
              "    <tr>\n",
              "      <th>16</th>\n",
              "      <td>3384</td>\n",
              "      <td>0</td>\n",
              "      <td>125</td>\n",
              "    </tr>\n",
              "    <tr>\n",
              "      <th>15</th>\n",
              "      <td>3383</td>\n",
              "      <td>0</td>\n",
              "      <td>122</td>\n",
              "    </tr>\n",
              "    <tr>\n",
              "      <th>14</th>\n",
              "      <td>3382</td>\n",
              "      <td>0</td>\n",
              "      <td>98</td>\n",
              "    </tr>\n",
              "    <tr>\n",
              "      <th>9</th>\n",
              "      <td>3352</td>\n",
              "      <td>0</td>\n",
              "      <td>89</td>\n",
              "    </tr>\n",
              "  </tbody>\n",
              "</table>\n",
              "</div>"
            ],
            "text/plain": [
              "     job  validated_count  file_count\n",
              "8   3351                0         163\n",
              "16  3384                0         125\n",
              "15  3383                0         122\n",
              "14  3382                0          98\n",
              "9   3352                0          89"
            ]
          },
          "execution_count": 55,
          "metadata": {},
          "output_type": "execute_result"
        }
      ],
      "source": [
        "cr_refl_df=data_df[data_df.class_label == 'crack_reflection'].groupby('job').agg({'validated':'sum',\n",
        "    'file_name': 'count'}\n",
        ").reset_index().rename(columns={'validated': 'validated_count', 'file_name': 'file_count'})\n",
        "cr_refl_df.sort_values(by = 'file_count', ascending=False).head()"
      ]
    },
    {
      "cell_type": "code",
      "execution_count": 61,
      "metadata": {},
      "outputs": [
        {
          "data": {
            "text/plain": [
              "class_label\n",
              "crack_reflection      125\n",
              "pothole                15\n",
              "crack_longitudinal      8\n",
              "crack_transversal       6\n",
              "Name: count, dtype: int64"
            ]
          },
          "execution_count": 61,
          "metadata": {},
          "output_type": "execute_result"
        }
      ],
      "source": [
        "data_df[data_df.job == 3384].class_label.value_counts().nlargest(7)"
      ]
    },
    {
      "cell_type": "code",
      "execution_count": 62,
      "metadata": {},
      "outputs": [],
      "source": [
        "val_df = pd.concat([validated_df, data_df[data_df.job == 3384], data_df[data_df.job == 3352]])"
      ]
    },
    {
      "cell_type": "code",
      "execution_count": 67,
      "metadata": {},
      "outputs": [
        {
          "data": {
            "text/html": [
              "<div>\n",
              "<style scoped>\n",
              "    .dataframe tbody tr th:only-of-type {\n",
              "        vertical-align: middle;\n",
              "    }\n",
              "\n",
              "    .dataframe tbody tr th {\n",
              "        vertical-align: top;\n",
              "    }\n",
              "\n",
              "    .dataframe thead th {\n",
              "        text-align: right;\n",
              "    }\n",
              "</style>\n",
              "<table border=\"1\" class=\"dataframe\">\n",
              "  <thead>\n",
              "    <tr style=\"text-align: right;\">\n",
              "      <th></th>\n",
              "      <th>class_label</th>\n",
              "      <th>severity_label</th>\n",
              "      <th>job</th>\n",
              "      <th>frame</th>\n",
              "      <th>validated</th>\n",
              "      <th>file_name</th>\n",
              "    </tr>\n",
              "  </thead>\n",
              "  <tbody>\n",
              "    <tr>\n",
              "      <th>3</th>\n",
              "      <td>patches</td>\n",
              "      <td>low</td>\n",
              "      <td>3592</td>\n",
              "      <td>364</td>\n",
              "      <td>True</td>\n",
              "      <td>3592_364_44.png</td>\n",
              "    </tr>\n",
              "    <tr>\n",
              "      <th>5</th>\n",
              "      <td>crack_transversal</td>\n",
              "      <td>low</td>\n",
              "      <td>3596</td>\n",
              "      <td>115</td>\n",
              "      <td>True</td>\n",
              "      <td>3596_115_19.png</td>\n",
              "    </tr>\n",
              "    <tr>\n",
              "      <th>20</th>\n",
              "      <td>patches</td>\n",
              "      <td>medium</td>\n",
              "      <td>3598</td>\n",
              "      <td>696</td>\n",
              "      <td>True</td>\n",
              "      <td>3598_696_31.png</td>\n",
              "    </tr>\n",
              "    <tr>\n",
              "      <th>27</th>\n",
              "      <td>crack_transversal</td>\n",
              "      <td>low</td>\n",
              "      <td>3594</td>\n",
              "      <td>760</td>\n",
              "      <td>True</td>\n",
              "      <td>3594_760_14.png</td>\n",
              "    </tr>\n",
              "    <tr>\n",
              "      <th>34</th>\n",
              "      <td>crack_transversal</td>\n",
              "      <td>low</td>\n",
              "      <td>3599</td>\n",
              "      <td>893</td>\n",
              "      <td>True</td>\n",
              "      <td>3599_893_28.png</td>\n",
              "    </tr>\n",
              "  </tbody>\n",
              "</table>\n",
              "</div>"
            ],
            "text/plain": [
              "          class_label severity_label   job  frame  validated        file_name\n",
              "3             patches            low  3592    364       True  3592_364_44.png\n",
              "5   crack_transversal            low  3596    115       True  3596_115_19.png\n",
              "20            patches         medium  3598    696       True  3598_696_31.png\n",
              "27  crack_transversal            low  3594    760       True  3594_760_14.png\n",
              "34  crack_transversal            low  3599    893       True  3599_893_28.png"
            ]
          },
          "execution_count": 67,
          "metadata": {},
          "output_type": "execute_result"
        }
      ],
      "source": [
        "val_df.head()"
      ]
    },
    {
      "cell_type": "code",
      "execution_count": 63,
      "metadata": {},
      "outputs": [
        {
          "data": {
            "text/html": [
              "<div>\n",
              "<style scoped>\n",
              "    .dataframe tbody tr th:only-of-type {\n",
              "        vertical-align: middle;\n",
              "    }\n",
              "\n",
              "    .dataframe tbody tr th {\n",
              "        vertical-align: top;\n",
              "    }\n",
              "\n",
              "    .dataframe thead th {\n",
              "        text-align: right;\n",
              "    }\n",
              "</style>\n",
              "<table border=\"1\" class=\"dataframe\">\n",
              "  <thead>\n",
              "    <tr style=\"text-align: right;\">\n",
              "      <th></th>\n",
              "      <th>class_label</th>\n",
              "      <th>job_count</th>\n",
              "      <th>validated_count</th>\n",
              "      <th>file_count</th>\n",
              "    </tr>\n",
              "  </thead>\n",
              "  <tbody>\n",
              "    <tr>\n",
              "      <th>0</th>\n",
              "      <td>crack_alligator_area</td>\n",
              "      <td>6</td>\n",
              "      <td>40</td>\n",
              "      <td>40</td>\n",
              "    </tr>\n",
              "    <tr>\n",
              "      <th>1</th>\n",
              "      <td>crack_longitudinal</td>\n",
              "      <td>13</td>\n",
              "      <td>1735</td>\n",
              "      <td>1854</td>\n",
              "    </tr>\n",
              "    <tr>\n",
              "      <th>2</th>\n",
              "      <td>crack_reflection</td>\n",
              "      <td>2</td>\n",
              "      <td>0</td>\n",
              "      <td>214</td>\n",
              "    </tr>\n",
              "    <tr>\n",
              "      <th>3</th>\n",
              "      <td>crack_transversal</td>\n",
              "      <td>13</td>\n",
              "      <td>1702</td>\n",
              "      <td>1736</td>\n",
              "    </tr>\n",
              "    <tr>\n",
              "      <th>4</th>\n",
              "      <td>patches</td>\n",
              "      <td>12</td>\n",
              "      <td>939</td>\n",
              "      <td>941</td>\n",
              "    </tr>\n",
              "    <tr>\n",
              "      <th>5</th>\n",
              "      <td>pothole</td>\n",
              "      <td>9</td>\n",
              "      <td>27</td>\n",
              "      <td>53</td>\n",
              "    </tr>\n",
              "    <tr>\n",
              "      <th>6</th>\n",
              "      <td>raveling</td>\n",
              "      <td>8</td>\n",
              "      <td>46</td>\n",
              "      <td>58</td>\n",
              "    </tr>\n",
              "  </tbody>\n",
              "</table>\n",
              "</div>"
            ],
            "text/plain": [
              "            class_label  job_count  validated_count  file_count\n",
              "0  crack_alligator_area          6               40          40\n",
              "1    crack_longitudinal         13             1735        1854\n",
              "2      crack_reflection          2                0         214\n",
              "3     crack_transversal         13             1702        1736\n",
              "4               patches         12              939         941\n",
              "5               pothole          9               27          53\n",
              "6              raveling          8               46          58"
            ]
          },
          "execution_count": 63,
          "metadata": {},
          "output_type": "execute_result"
        }
      ],
      "source": [
        "class_df1 = val_df.groupby(['class_label']).agg({\n",
        "    'job':'nunique',\n",
        "    'validated':'sum',\n",
        "    'file_name': 'count'\n",
        "}).reset_index().rename(columns={'job': 'job_count', 'validated': 'validated_count', 'file_name': 'file_count'})\n",
        "class_df1"
      ]
    },
    {
      "cell_type": "code",
      "execution_count": 64,
      "metadata": {},
      "outputs": [
        {
          "data": {
            "image/png": "[encoded data removed]",
            "text/plain": [
              "<Figure size 640x480 with 2 Axes>"
            ]
          },
          "metadata": {},
          "output_type": "display_data"
        }
      ],
      "source": [
        "#\n",
        "fig, axs = plt.subplots(2, sharex=True)\n",
        "sns.barplot(data=class_df1, x='class_label', y='job_count', ax= axs[0])\n",
        "sns.barplot(data=class_df1, x='class_label', y='file_count', ax= axs[1])\n",
        "#sns.barplot(data=class_df1, x='class_label', y='validation_percent', ax= axs[2])\n",
        "\n",
        "fig.suptitle('Data distribution through the classes')\n",
        "axs[1].xaxis.set_tick_params(rotation=45)\n",
        "fig.tight_layout();"
      ]
    },
    {
      "cell_type": "code",
      "execution_count": 71,
      "metadata": {},
      "outputs": [
        {
          "data": {
            "text/plain": [
              "4896"
            ]
          },
          "execution_count": 71,
          "metadata": {},
          "output_type": "execute_result"
        }
      ],
      "source": [
        "val_index = list(val_df.index)\n",
        "len(val_index)"
      ]
    },
    {
      "cell_type": "code",
      "execution_count": 73,
      "metadata": {},
      "outputs": [
        {
          "data": {
            "text/plain": [
              "39882"
            ]
          },
          "execution_count": 73,
          "metadata": {},
          "output_type": "execute_result"
        }
      ],
      "source": [
        "len(data_df)-len(val_index)"
      ]
    },
    {
      "cell_type": "code",
      "execution_count": 74,
      "metadata": {},
      "outputs": [
        {
          "data": {
            "text/plain": [
              "39882"
            ]
          },
          "execution_count": 74,
          "metadata": {},
          "output_type": "execute_result"
        }
      ],
      "source": [
        "test_df = data_df.drop(axis = 0, index = val_index)\n",
        "len(test_df)"
      ]
    },
    {
      "cell_type": "code",
      "execution_count": 76,
      "metadata": {},
      "outputs": [
        {
          "data": {
            "image/png": "[encoded data removed]",
            "text/plain": [
              "<Figure size 640x480 with 2 Axes>"
            ]
          },
          "metadata": {},
          "output_type": "display_data"
        }
      ],
      "source": [
        "class_df2 = test_df.groupby(['class_label']).agg({\n",
        "    'job':'nunique',\n",
        "    'validated':'sum',\n",
        "    'file_name': 'count'\n",
        "}).reset_index().rename(columns={'job': 'job_count', 'validated': 'validated_count', 'file_name': 'file_count'})\n",
        "class_df1\n",
        "#\n",
        "fig, axs = plt.subplots(2, sharex=True)\n",
        "sns.barplot(data=class_df2, x='class_label', y='job_count', ax= axs[0])\n",
        "sns.barplot(data=class_df2, x='class_label', y='file_count', ax= axs[1])\n",
        "#sns.barplot(data=class_df1, x='class_label', y='validation_percent', ax= axs[2])\n",
        "\n",
        "fig.suptitle('Data distribution through the classes')\n",
        "axs[1].xaxis.set_tick_params(rotation=45)\n",
        "fig.tight_layout();"
      ]
    },
    {
      "cell_type": "code",
      "execution_count": 78,
      "metadata": {},
      "outputs": [
        {
          "data": {
            "text/plain": [
              "[3352, 3589, 3590, 3591, 3592, 3593, 3594, 3595, 3596, 3597, 3598, 3599, 3384]"
            ]
          },
          "execution_count": 78,
          "metadata": {},
          "output_type": "execute_result"
        }
      ],
      "source": [
        "val_job_list = list(set(val_df['job']))\n",
        "val_job_list"
      ]
    },
    {
      "cell_type": "code",
      "execution_count": 80,
      "metadata": {},
      "outputs": [
        {
          "data": {
            "text/plain": [
              "270"
            ]
          },
          "execution_count": 80,
          "metadata": {},
          "output_type": "execute_result"
        }
      ],
      "source": [
        "test_job_list = list(set(test_df['job']))\n",
        "len(test_job_list)"
      ]
    },
    {
      "cell_type": "code",
      "execution_count": 82,
      "metadata": {},
      "outputs": [
        {
          "data": {
            "text/plain": [
              "0"
            ]
          },
          "execution_count": 82,
          "metadata": {},
          "output_type": "execute_result"
        }
      ],
      "source": [
        "# testing for data leakage, check if test and validation dataset have common jobs\n",
        "def test_data_leakage(test_list, val_list):\n",
        "    mask_lst = [x in test_list for x in val_list]\n",
        "    return sum(mask_lst)\n",
        "\n",
        "test_data_leakage(test_job_list, val_job_list)"
      ]
    },
    {
      "cell_type": "code",
      "execution_count": 83,
      "metadata": {},
      "outputs": [],
      "source": [
        "# create test and val csv files\n",
        "test_df.to_csv(\"train_data_csv\")\n",
        "val_df.to_csv(\"val_data_csv\")"
      ]
    },
    {
      "cell_type": "code",
      "execution_count": 2,
      "metadata": {},
      "outputs": [],
      "source": [
        "train_df = pd.read_csv('train_data_csv')"
      ]
    },
    {
      "cell_type": "code",
      "execution_count": 3,
      "metadata": {},
      "outputs": [
        {
          "name": "stdout",
          "output_type": "stream",
          "text": [
            "<class 'pandas.core.frame.DataFrame'>\n",
            "RangeIndex: 39882 entries, 0 to 39881\n",
            "Data columns (total 7 columns):\n",
            " #   Column          Non-Null Count  Dtype \n",
            "---  ------          --------------  ----- \n",
            " 0   Unnamed: 0      39882 non-null  int64 \n",
            " 1   class_label     39882 non-null  object\n",
            " 2   severity_label  39882 non-null  object\n",
            " 3   job             39882 non-null  int64 \n",
            " 4   frame           39882 non-null  int64 \n",
            " 5   validated       39882 non-null  bool  \n",
            " 6   file_name       39882 non-null  object\n",
            "dtypes: bool(1), int64(3), object(3)\n",
            "memory usage: 1.9+ MB\n"
          ]
        }
      ],
      "source": [
        "train_df.info()"
      ]
    },
    {
      "cell_type": "code",
      "execution_count": 26,
      "metadata": {},
      "outputs": [],
      "source": [
        "train_copy = train_df[:100]"
      ]
    },
    {
      "cell_type": "code",
      "execution_count": 34,
      "metadata": {},
      "outputs": [
        {
          "data": {
            "text/plain": [
              "1459"
            ]
          },
          "execution_count": 34,
          "metadata": {},
          "output_type": "execute_result"
        }
      ],
      "source": [
        "i_list = train_df[(train_df['class_label']=='crack_longitudinal') & (train_df['job'] == 3402)].index\n",
        "#train_copy.drop(index = i, inplace=True)\n",
        "#train_copy[train_copy.index.isin(i_list)].head()\n",
        "len(i_list)\n",
        "i_toremove = i_list[150:]\n",
        "#train_copy[train_copy.index.isin(i_toremove)].head()\n",
        "len(i_toremove)"
      ]
    },
    {
      "cell_type": "code",
      "execution_count": 36,
      "metadata": {},
      "outputs": [
        {
          "data": {
            "text/plain": [
              "1859"
            ]
          },
          "execution_count": 36,
          "metadata": {},
          "output_type": "execute_result"
        }
      ],
      "source": [
        "sum(train_df['job'] == 3402)"
      ]
    },
    {
      "cell_type": "code",
      "execution_count": 41,
      "metadata": {},
      "outputs": [
        {
          "data": {
            "text/html": [
              "<div>\n",
              "<style scoped>\n",
              "    .dataframe tbody tr th:only-of-type {\n",
              "        vertical-align: middle;\n",
              "    }\n",
              "\n",
              "    .dataframe tbody tr th {\n",
              "        vertical-align: top;\n",
              "    }\n",
              "\n",
              "    .dataframe thead th {\n",
              "        text-align: right;\n",
              "    }\n",
              "</style>\n",
              "<table border=\"1\" class=\"dataframe\">\n",
              "  <thead>\n",
              "    <tr style=\"text-align: right;\">\n",
              "      <th></th>\n",
              "      <th>job</th>\n",
              "      <th>file_count</th>\n",
              "    </tr>\n",
              "  </thead>\n",
              "  <tbody>\n",
              "    <tr>\n",
              "      <th>54</th>\n",
              "      <td>3402</td>\n",
              "      <td>1609</td>\n",
              "    </tr>\n",
              "    <tr>\n",
              "      <th>91</th>\n",
              "      <td>3440</td>\n",
              "      <td>421</td>\n",
              "    </tr>\n",
              "    <tr>\n",
              "      <th>92</th>\n",
              "      <td>3441</td>\n",
              "      <td>369</td>\n",
              "    </tr>\n",
              "    <tr>\n",
              "      <th>236</th>\n",
              "      <td>3911</td>\n",
              "      <td>329</td>\n",
              "    </tr>\n",
              "    <tr>\n",
              "      <th>138</th>\n",
              "      <td>3514</td>\n",
              "      <td>329</td>\n",
              "    </tr>\n",
              "    <tr>\n",
              "      <th>...</th>\n",
              "      <td>...</td>\n",
              "      <td>...</td>\n",
              "    </tr>\n",
              "    <tr>\n",
              "      <th>226</th>\n",
              "      <td>3895</td>\n",
              "      <td>1</td>\n",
              "    </tr>\n",
              "    <tr>\n",
              "      <th>30</th>\n",
              "      <td>3356</td>\n",
              "      <td>1</td>\n",
              "    </tr>\n",
              "    <tr>\n",
              "      <th>212</th>\n",
              "      <td>3876</td>\n",
              "      <td>1</td>\n",
              "    </tr>\n",
              "    <tr>\n",
              "      <th>210</th>\n",
              "      <td>3874</td>\n",
              "      <td>1</td>\n",
              "    </tr>\n",
              "    <tr>\n",
              "      <th>244</th>\n",
              "      <td>4288</td>\n",
              "      <td>1</td>\n",
              "    </tr>\n",
              "  </tbody>\n",
              "</table>\n",
              "<p>245 rows × 2 columns</p>\n",
              "</div>"
            ],
            "text/plain": [
              "      job  file_count\n",
              "54   3402        1609\n",
              "91   3440         421\n",
              "92   3441         369\n",
              "236  3911         329\n",
              "138  3514         329\n",
              "..    ...         ...\n",
              "226  3895           1\n",
              "30   3356           1\n",
              "212  3876           1\n",
              "210  3874           1\n",
              "244  4288           1\n",
              "\n",
              "[245 rows x 2 columns]"
            ]
          },
          "execution_count": 41,
          "metadata": {},
          "output_type": "execute_result"
        }
      ],
      "source": [
        "crackl_df = train_df[train_df['class_label']=='crack_longitudinal'].groupby('job').agg({\n",
        "    'file_name': 'count'\n",
        "}).reset_index().rename(columns={'file_name': 'file_count'})\n",
        "crackl_df.sort_values(by = 'file_count', ascending=False)\n"
      ]
    },
    {
      "cell_type": "code",
      "execution_count": 82,
      "metadata": {},
      "outputs": [],
      "source": [
        "df = train_df.copy()\n",
        "old_len = len(df)\n",
        "remove_lst = get_index_to_remove(df)\n",
        "df.drop(index = remove_lst, inplace = True)"
      ]
    },
    {
      "cell_type": "code",
      "execution_count": 83,
      "metadata": {},
      "outputs": [
        {
          "data": {
            "text/plain": [
              "21064"
            ]
          },
          "execution_count": 83,
          "metadata": {},
          "output_type": "execute_result"
        }
      ],
      "source": [
        "len(df)"
      ]
    },
    {
      "cell_type": "code",
      "execution_count": 85,
      "metadata": {},
      "outputs": [],
      "source": [
        "df.to_csv('small_train_csv')"
      ]
    },
    {
      "cell_type": "code",
      "execution_count": 81,
      "metadata": {},
      "outputs": [],
      "source": [
        "def get_index_to_remove(df):\n",
        "    \n",
        "    label_list = ['crack_longitudinal', 'crack_transversal', ]\n",
        "    index_to_remove = []\n",
        "    for label in label_list:\n",
        "        for job in df[df.class_label == label].job:\n",
        "            mask = (df.class_label == label) & (df.job == job)\n",
        "            if len(df[mask])>30:\n",
        "                index_list = df[mask].index\n",
        "                index_to_remove.extend(index_list[30:])\n",
        "            else:\n",
        "                continue\n",
        "    return index_to_remove            "
      ]
    },
    {
      "cell_type": "code",
      "execution_count": 84,
      "metadata": {},
      "outputs": [
        {
          "data": {
            "image/png": "[encoded data removed]",
            "text/plain": [
              "<Figure size 640x480 with 2 Axes>"
            ]
          },
          "metadata": {},
          "output_type": "display_data"
        }
      ],
      "source": [
        "class_df2 = df.groupby(['class_label']).agg({\n",
        "    'job':'nunique',\n",
        "    'validated':'sum',\n",
        "    'file_name': 'count'\n",
        "}).reset_index().rename(columns={'job': 'job_count', 'validated': 'validated_count', 'file_name': 'file_count'})\n",
        "\n",
        "#\n",
        "fig, axs = plt.subplots(2, sharex=True)\n",
        "sns.barplot(data=class_df2, x='class_label', y='job_count', ax= axs[0])\n",
        "sns.barplot(data=class_df2, x='class_label', y='file_count', ax= axs[1])\n",
        "#sns.barplot(data=class_df1, x='class_label', y='validation_percent', ax= axs[2])\n",
        "\n",
        "fig.suptitle('Data distribution through the classes')\n",
        "axs[1].xaxis.set_tick_params(rotation=45)\n",
        "fig.tight_layout();"
      ]
    },
    {
      "cell_type": "code",
      "execution_count": null,
      "metadata": {},
      "outputs": [],
      "source": []
    },
    {
      "cell_type": "code",
      "execution_count": null,
      "metadata": {},
      "outputs": [],
      "source": [
        "def get_jobs_to_reduce(df)\n",
        "    for job in df.job:\n",
        "        if sum(df['job' == job])>150:\n",
        "            "
      ]
    },
    {
      "cell_type": "code",
      "execution_count": null,
      "metadata": {},
      "outputs": [],
      "source": [
        "label_list = ['crack_longitudinal', 'crack_transversal']\n",
        "jobs_to_reduce = [df.job]"
      ]
    }
  ],
  "metadata": {
    "colab": {
      "provenance": []
    },
    "kernelspec": {
      "display_name": "Python 3",
      "name": "python3"
    },
    "language_info": {
      "codemirror_mode": {
        "name": "ipython",
        "version": 3
      },
      "file_extension": ".py",
      "mimetype": "text/x-python",
      "name": "python",
      "nbconvert_exporter": "python",
      "pygments_lexer": "ipython3",
      "version": "3.10.12"
    }
  },
  "nbformat": 4,
  "nbformat_minor": 0
}
