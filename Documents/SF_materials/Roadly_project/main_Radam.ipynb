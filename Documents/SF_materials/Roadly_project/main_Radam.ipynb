{
 "cells": [
  {
   "cell_type": "code",
   "execution_count": 1,
   "metadata": {},
   "outputs": [],
   "source": [
    "import numpy as np\n",
    "import pandas as pd\n",
    "import matplotlib.pyplot as plt\n",
    "import json\n",
    "import os\n",
    "import copy\n",
    "import torch\n",
    "import torch.backends.cudnn as cudnn\n",
    "import torch.nn as nn\n",
    "import torchvision.models as models\n",
    "import time\n",
    "import torch.optim as optim\n",
    "from torch.optim import lr_scheduler\n",
    "from torchvision.io import read_image\n",
    "from torch.utils.data import Dataset, DataLoader, Subset\n",
    "from torcheval.metrics.functional import multiclass_confusion_matrix\n",
    "\n",
    "import albumentations as A\n",
    "from albumentations.pytorch import ToTensorV2\n",
    "import cv2\n",
    "\n",
    "from joblib import parallel_backend\n",
    "import sklearn\n",
    "from sklearn.discriminant_analysis import LinearDiscriminantAnalysis\n",
    "from sklearn.neighbors import KNeighborsClassifier\n",
    "from sklearn import svm, model_selection\n",
    "from sklearn.preprocessing import StandardScaler,PowerTransformer\n",
    "from sklearn.metrics import classification_report\n",
    "import pickle\n",
    "\n"
   ]
  },
  {
   "cell_type": "markdown",
   "metadata": {},
   "source": [
    "#### load train and validation csv files"
   ]
  },
  {
   "cell_type": "code",
   "execution_count": 2,
   "metadata": {},
   "outputs": [
    {
     "name": "stdout",
     "output_type": "stream",
     "text": [
      "4896 21064\n"
     ]
    }
   ],
   "source": [
    "train_df = pd.read_csv('small_train_csv')\n",
    "val_df = pd.read_csv('val_data_csv')\n",
    "print(len(val_df), len(train_df))"
   ]
  },
  {
   "cell_type": "markdown",
   "metadata": {},
   "source": [
    "#### create custom dataset with torch class Dataset"
   ]
  },
  {
   "cell_type": "code",
   "execution_count": 3,
   "metadata": {},
   "outputs": [],
   "source": [
    "\n",
    "labels_dict = {\"crack_alligator_area\": 0, \"crack_longitudinal\": 1, \"crack_reflection\": 2, \n",
    "               \"crack_transversal\": 3, \"patches\": 4, \"pothole\": 5, \"raveling\": 6}\n",
    "inv_labels_dict = {v: k for k, v in labels_dict.items()}\n",
    "\n",
    "class CustomDataset(Dataset):\n",
    "    def __init__(self, root_dir: str, labels: pd.Series, names: pd.Series, transform=None):\n",
    "        super().__init__()\n",
    "        self.data = []\n",
    "        self.transform = transform\n",
    "        self.root_dir = root_dir\n",
    "        img_files = [(label, os.path.join(root_dir, name)) for \n",
    "                     name, label in zip(names, labels)]\n",
    "        self.data.extend(img_files)\n",
    "\n",
    "    def __len__(self):\n",
    "        return len(self.data)\n",
    "\n",
    "    def __getitem__(self, index):\n",
    "        img = self.data[index][1]\n",
    "        label = self.data[index][0]\n",
    "        image = cv2.imread(img)\n",
    "        image = cv2.cvtColor(image, cv2.COLOR_BGR2RGB)\n",
    "        if self.transform is not None:\n",
    "            image = self.transform(image=image)[\"image\"] \n",
    "            \n",
    "        return image, labels_dict[label]\n",
    "\n"
   ]
  },
  {
   "cell_type": "markdown",
   "metadata": {},
   "source": [
    "#### create transforms for different augmentations of data"
   ]
  },
  {
   "cell_type": "code",
   "execution_count": 4,
   "metadata": {},
   "outputs": [],
   "source": [
    "data_transforms = {\n",
    "    'r_class': A.Compose([\n",
    "    A.Rotate(always_apply=True, limit=(-90, 90)),\n",
    "    A.ColorJitter(always_apply=True, brightness=(0.8, 1.5), \n",
    "                  contrast=(0.8, 2), saturation=(0.8, 1.5), hue=(-0.2, 0.2)),    \n",
    "    A.Perspective(always_apply=True, scale=(0.05, 0.5), keep_size=0),\n",
    "    A.Emboss(always_apply=True, alpha=(0.2, 0.4), strength=(0.2, 5.0)),\n",
    "    A.GridDistortion(always_apply=True, num_steps=7),\n",
    "    A.Resize(p=1.0, height=224, width=224),\n",
    "    A.Normalize(mean=(0.485, 0.456, 0.406), std=(0.229, 0.224, 0.225)),\n",
    "    ToTensorV2()    \n",
    "        ]),\n",
    "    'train': A.Compose([    \n",
    "    A.HorizontalFlip(p=0.5),\n",
    "    A.CLAHE(clip_limit=(1, 20)),\n",
    "    A.AdvancedBlur(always_apply=False, p=0.5, blur_limit=(3, 29)),\n",
    "    A.ToGray(always_apply=False, p=0.5),\n",
    "    A.GridDistortion(always_apply=False, p = 0.5, num_steps=5),\n",
    "    A.Perspective(always_apply=False, p = 0.5, scale=(0.05, 0.5), keep_size=0),\n",
    "    A.RandomBrightnessContrast(p=0.5),\n",
    "    A.Resize(p=1.0, height=224, width=224),\n",
    "    A.Normalize(mean=(0.485, 0.456, 0.406), std=(0.229, 0.224, 0.225)),\n",
    "    ToTensorV2()\n",
    "        ]),\n",
    "    'val': A.Compose([\n",
    "        A.Resize(p=1.0, height=224, width=224),\n",
    "        A.Normalize(mean=(0.485, 0.456, 0.406), std=(0.229, 0.224, 0.225)),\n",
    "    ToTensorV2()\n",
    "    ])\n",
    "}"
   ]
  },
  {
   "cell_type": "markdown",
   "metadata": {},
   "source": [
    "#### determine rare classes and create description dataframe with these classes"
   ]
  },
  {
   "cell_type": "code",
   "execution_count": null,
   "metadata": {},
   "outputs": [],
   "source": [
    "rare_classes = [\"crack_alligator_area\", \"crack_reflection\", \"pothole\", \"raveling\"]\n",
    "df_rare_classes = train_df[train_df.class_label.isin(rare_classes)]\n",
    "df_rare_classes.info()"
   ]
  },
  {
   "cell_type": "markdown",
   "metadata": {},
   "source": [
    "#### create datasets for train, validation and rare classes dataset, that we used to increase image number for rare classes of distress"
   ]
  },
  {
   "cell_type": "code",
   "execution_count": 6,
   "metadata": {},
   "outputs": [
    {
     "name": "stdout",
     "output_type": "stream",
     "text": [
      "4896 27015\n"
     ]
    }
   ],
   "source": [
    "# create datasets from small crops\n",
    "r_class_dataset_small = CustomDataset(root_dir ='crops/small', labels = df_rare_classes['class_label'], names = df_rare_classes['file_name'],\n",
    "                             transform = data_transforms['r_class'])\n",
    "train_dataset_small = CustomDataset(root_dir ='crops/small', labels = train_df['class_label'], names = train_df['file_name'],\n",
    "                             transform = data_transforms['train'])\n",
    "train_dataset_small_balanced = torch.utils.data.ConcatDataset([train_dataset_small, r_class_dataset_small])\n",
    "val_dataset_small = CustomDataset(root_dir ='crops/small', labels = val_df['class_label'], names = val_df['file_name'],\n",
    "                             transform = data_transforms['val'])\n",
    "print(len(val_dataset_small), len(train_dataset_small_balanced))"
   ]
  },
  {
   "cell_type": "code",
   "execution_count": 7,
   "metadata": {},
   "outputs": [
    {
     "name": "stdout",
     "output_type": "stream",
     "text": [
      "Torch device:  cpu\n"
     ]
    }
   ],
   "source": [
    "# Cuda maintenance\n",
    "import gc\n",
    "gc.collect()\n",
    "torch.cuda.empty_cache()\n",
    "\n",
    "device = torch.device('cuda' if torch.cuda.is_available() else 'cpu')\n",
    "print(\"Torch device: \", device)\n"
   ]
  },
  {
   "cell_type": "markdown",
   "metadata": {},
   "source": [
    "#### load extract_features function that use RADAM algorithm to extract features of images"
   ]
  },
  {
   "cell_type": "code",
   "execution_count": 8,
   "metadata": {},
   "outputs": [],
   "source": [
    "from feature_extraction import extract_features"
   ]
  },
  {
   "cell_type": "markdown",
   "metadata": {},
   "source": [
    "#### Determine hyperparameters: model backbone, image size (input_dimm), batch size, and parameters for extract_features function (see RADAM documentation)"
   ]
  },
  {
   "cell_type": "code",
   "execution_count": 9,
   "metadata": {},
   "outputs": [],
   "source": [
    "output_path = 'path_to_results/RADAM_result',\n",
    "model =   'convnext_nano' #'resnet50', 'resnet34'\n",
    "depth = 'all'\n",
    "pooling = 'RAEspatial'\n",
    "input_dimm = 224\n",
    "batch_size = 20\n",
    "multigpu = False\n",
    "seed = 666999\n",
    "M = 4\n",
    "iterations = 1"
   ]
  },
  {
   "cell_type": "markdown",
   "metadata": {},
   "source": [
    "#### get features for train and test datasets"
   ]
  },
  {
   "cell_type": "code",
   "execution_count": 11,
   "metadata": {},
   "outputs": [
    {
     "name": "stdout",
     "output_type": "stream",
     "text": [
      "extracting 3904 features for 27015 images...\n"
     ]
    }
   ],
   "source": [
    "X_train, Y_train = extract_features(model, train_dataset_small_balanced, depth=depth, pooling=pooling, M=M,\n",
    "                                                      batch_size=batch_size, multigpu=multigpu, seed=seed)"
   ]
  },
  {
   "cell_type": "code",
   "execution_count": 12,
   "metadata": {},
   "outputs": [
    {
     "name": "stdout",
     "output_type": "stream",
     "text": [
      "extracting 3904 features for 4896 images...\n"
     ]
    }
   ],
   "source": [
    "X_test, Y_test = extract_features(model, val_dataset_small, depth=depth, pooling=pooling, M=M,\n",
    "                                                      batch_size=batch_size, multigpu=multigpu, seed=seed)"
   ]
  },
  {
   "cell_type": "markdown",
   "metadata": {},
   "source": [
    "#### construct classification module to classify images on the basis of extracted features"
   ]
  },
  {
   "cell_type": "code",
   "execution_count": 15,
   "metadata": {},
   "outputs": [],
   "source": [
    "file1 = 'path_to_results' + model + pooling + str(M) + '_EVALUATION.pkl'"
   ]
  },
  {
   "cell_type": "code",
   "execution_count": 10,
   "metadata": {},
   "outputs": [],
   "source": [
    "gtruth_= []\n",
    "preds_KNN, preds_LDA, preds_SVM = [], [], []\n",
    "accs_KNN, accs_LDA, accs_SVM = [], [], []"
   ]
  },
  {
   "cell_type": "code",
   "execution_count": 17,
   "metadata": {},
   "outputs": [],
   "source": [
    "gtruth_.append(Y_test)\n",
    "with parallel_backend('threading', n_jobs=16):\n",
    "                    \n",
    "    KNN = KNeighborsClassifier(n_neighbors=1, weights='uniform', algorithm='auto', \n",
    "                                                leaf_size=30, p=2, metric='minkowski', metric_params=None)\n",
    "                    \n",
    "                    \n",
    "    KNN.fit(X_train,Y_train)\n",
    "    preds=KNN.predict(X_test)\n",
    "                \n",
    "    preds_KNN.append(preds)            \n",
    "    acc= sklearn.metrics.accuracy_score(Y_test, preds)        \n",
    "    accs_KNN.append(acc*100)     \n",
    "                    \n",
    "                    \n",
    "    LDA= LinearDiscriminantAnalysis(solver='lsqr', \n",
    "                                        shrinkage='auto', priors=None,\n",
    "                                        n_components=None, \n",
    "                                        store_covariance=False, \n",
    "                                        tol=0.0001, covariance_estimator=None)                     \n",
    "                    \n",
    "                    \n",
    "    LDA.fit(X_train,Y_train)\n",
    "    preds=LDA.predict(X_test)\n",
    "              \n",
    "    preds_LDA.append(preds)            \n",
    "    acc= sklearn.metrics.accuracy_score(Y_test, preds)\n",
    "    accs_LDA.append(acc*100)  \n",
    "                    \n",
    "              \n",
    "    SVM = svm.SVC(C=1.0, kernel='linear', degree=3, gamma='scale', \n",
    "                    coef0=0.0, shrinking=True, probability=False, tol=0.001,\n",
    "                    cache_size=200, class_weight=None, verbose=False, \n",
    "                    max_iter=100000, decision_function_shape='ovr', \n",
    "                    break_ties=False, random_state=seed)\n",
    "                    \n",
    "                \n",
    "                 \n",
    "    SVM.fit(X_train,Y_train)\n",
    "                    \n",
    "    preds=SVM.predict(X_test)\n",
    "               \n",
    "    preds_SVM.append(preds)            \n",
    "    acc= sklearn.metrics.accuracy_score(Y_test, preds)\n",
    "    accs_SVM.append(acc*100)       \n",
    "\n",
    "    if os.path.isfile(file1):           \n",
    "        with open(file1, 'rb') as f:\n",
    "            results = pickle.load(f) \n",
    "            \n",
    "    else:\n",
    "        results = {'gtruth_':gtruth_,\n",
    "                    'preds_KNN':preds_KNN,\n",
    "                    'accs_KNN':accs_KNN,\n",
    "                    'preds_LDA':preds_LDA,\n",
    "                    'accs_LDA':accs_LDA,\n",
    "                    'preds_SVM':preds_SVM,\n",
    "                    'accs_SVM':accs_SVM,\n",
    "        }  \n",
    "         \n",
    "        with open(file1, 'wb') as f:\n",
    "            pickle.dump(results, f)"
   ]
  },
  {
   "cell_type": "code",
   "execution_count": 42,
   "metadata": {},
   "outputs": [
    {
     "name": "stdout",
     "output_type": "stream",
     "text": [
      "Acc: KNN: 57.7  || LDA: 72.8  || SVM: 76.4"
     ]
    }
   ],
   "source": [
    "print('Acc: KNN:', f'{np.round(accs_KNN[0], 1)}', ' || LDA:', f'{np.round(accs_LDA[0], 1)}', ' || SVM:', f'{np.round(accs_SVM[0], 1)}',  sep=' ', end='', flush=True)"
   ]
  },
  {
   "cell_type": "code",
   "execution_count": 23,
   "metadata": {},
   "outputs": [],
   "source": [
    "# SVM for unbalanced dataset - change parameter class_weight to 'balanced'\n",
    "preds_SVM = []\n",
    "gtruth_.append(Y_test)\n",
    "with parallel_backend('threading', n_jobs=16):\n",
    "    SVM = svm.SVC(C=1.0, kernel='linear', degree=3, gamma='scale', \n",
    "                    coef0=0.0, shrinking=True, probability=True, tol=0.001,\n",
    "                    cache_size=200, class_weight='balanced', verbose=False, \n",
    "                    max_iter=100000, decision_function_shape='ovr', \n",
    "                    break_ties=False, random_state=seed)\n",
    "               \n",
    "    SVM.fit(X_train,Y_train)                            \n",
    "    preds=SVM.predict(X_test)               \n",
    "    preds_SVM.append(preds)            \n",
    "    acc= sklearn.metrics.accuracy_score(Y_test, preds)\n",
    "    accs_SVM.append(acc*100)\n",
    "target = torch.LongTensor(Y_test)\n",
    "input = torch.LongTensor(preds_SVM[0])\n",
    "SVM_matrix = multiclass_confusion_matrix(input, target, 7)   "
   ]
  },
  {
   "cell_type": "markdown",
   "metadata": {},
   "source": [
    "#### create classification report"
   ]
  },
  {
   "cell_type": "code",
   "execution_count": 25,
   "metadata": {},
   "outputs": [
    {
     "name": "stdout",
     "output_type": "stream",
     "text": [
      "                      precision    recall  f1-score   support\n",
      "\n",
      "crack_alligator_area       0.18      0.65      0.28        40\n",
      "  crack_longitudinal       0.85      0.77      0.81      1854\n",
      "    crack_reflection       0.71      0.63      0.67       214\n",
      "   crack_transversal       0.89      0.75      0.81      1736\n",
      "             patches       0.63      0.80      0.71       941\n",
      "             pothole       0.18      0.45      0.26        53\n",
      "            raveling       0.14      0.21      0.17        58\n",
      "\n",
      "            accuracy                           0.75      4896\n",
      "           macro avg       0.51      0.61      0.53      4896\n",
      "        weighted avg       0.79      0.75      0.77      4896\n",
      "\n"
     ]
    }
   ],
   "source": [
    "label_names = [\"crack_alligator_area\", \"crack_longitudinal\", \"crack_reflection\", \n",
    "               \"crack_transversal\", \"patches\", \"pothole\", \"raveling\"]\n",
    "target = torch.LongTensor(Y_test)\n",
    "input = torch.LongTensor(preds_SVM[0])\n",
    "\n",
    "print(classification_report(target, input,target_names=label_names))"
   ]
  },
  {
   "cell_type": "markdown",
   "metadata": {},
   "source": [
    "#### construct confusion matrix for different classification algorithms"
   ]
  },
  {
   "cell_type": "code",
   "execution_count": 19,
   "metadata": {},
   "outputs": [],
   "source": [
    "target = torch.LongTensor(Y_test)\n",
    "input = torch.LongTensor(preds_KNN[0])\n",
    "KNN_matrix = multiclass_confusion_matrix(input, target, 7)\n",
    "input = torch.LongTensor(preds_SVM[0])\n",
    "SVM_matrix = multiclass_confusion_matrix(input, target, 7)\n",
    "input = torch.LongTensor(preds_LDA[0])\n",
    "LDA_matrix = multiclass_confusion_matrix(input, target, 7)"
   ]
  },
  {
   "cell_type": "code",
   "execution_count": 26,
   "metadata": {},
   "outputs": [],
   "source": [
    "df = pd.DataFrame(SVM_matrix)"
   ]
  },
  {
   "cell_type": "markdown",
   "metadata": {},
   "source": [
    "#### get image of the confusion matrix"
   ]
  },
  {
   "cell_type": "code",
   "execution_count": 27,
   "metadata": {},
   "outputs": [
    {
     "data": {
      "image/png": "[encoded data removed]",
      "text/plain": [
       "<Figure size 640x480 with 1 Axes>"
      ]
     },
     "metadata": {},
     "output_type": "display_data"
    }
   ],
   "source": [
    "## Get Class Labels\n",
    "labels = [\"crack_alligator_area\", \"crack_longitudinal\", \"crack_reflection\", \n",
    "               \"crack_transversal\", \"patches\", \"pothole\", \"raveling\"]\n",
    "class_names = labels\n",
    "\n",
    "# Plot confusion matrix\n",
    "fig, ax = plt.subplots()\n",
    "im = ax.imshow(df)\n",
    "\n",
    "# Show all ticks and label them with the respective list entries\n",
    "ax.set_xticks(np.arange(len(labels)), labels=labels)\n",
    "ax.set_yticks(np.arange(len(labels)), labels=labels)\n",
    "\n",
    "# Rotate the tick labels and set their alignment.\n",
    "plt.setp(ax.get_xticklabels(), rotation=45, ha=\"right\",\n",
    "         rotation_mode=\"anchor\")\n",
    "\n",
    "# Loop over data dimensions and create text annotations.\n",
    "for i in range(len(labels)):\n",
    "    for j in range(len(labels)):\n",
    "        text = ax.text(j, i, SVM_matrix.numpy()[i, j],\n",
    "                       ha=\"center\", va=\"center\", color=\"w\")\n",
    "\n",
    "ax.set_title(\"SVM matrix\")\n",
    "ax.set_ylabel('True', fontsize=10)\n",
    "ax.set_xlabel('Predicted', fontsize=10)\n",
    "fig.tight_layout()\n",
    "plt.savefig('ConMat_SVM.png')\n",
    "plt.show()\n"
   ]
  }
 ],
 "metadata": {
  "kernelspec": {
   "display_name": "Python 3",
   "language": "python",
   "name": "python3"
  },
  "language_info": {
   "codemirror_mode": {
    "name": "ipython",
    "version": 3
   },
   "file_extension": ".py",
   "mimetype": "text/x-python",
   "name": "python",
   "nbconvert_exporter": "python",
   "pygments_lexer": "ipython3",
   "version": "3.10.12"
  }
 },
 "nbformat": 4,
 "nbformat_minor": 2
}
